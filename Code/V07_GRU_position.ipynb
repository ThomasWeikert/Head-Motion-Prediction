{
 "cells": [
  {
   "cell_type": "code",
   "execution_count": 7,
   "metadata": {
    "id": "571dfe49"
   },
   "outputs": [],
   "source": [
    "import os\n",
    "import numpy as np\n",
    "from numpy import array\n",
    "from numpy import hstack\n",
    "import glob\n",
    "import pandas as pd  \n",
    "import random\n",
    "import math as mp\n",
    "import pickle\n",
    "import tensorflow as tf\n",
    "import time\n",
    "from pickle import load\n",
    "from sklearn.preprocessing import StandardScaler\n",
    "from sklearn.model_selection import train_test_split\n",
    "from sklearn.metrics import accuracy_score\n",
    "from sklearn.metrics import confusion_matrix\n",
    "from sklearn import metrics\n",
    "from sklearn import preprocessing\n",
    "from sklearn.model_selection import TimeSeriesSplit\n",
    "from sklearn.preprocessing import MinMaxScaler\n",
    "from pyquaternion import Quaternion\n",
    "%matplotlib inline\n",
    "from tensorflow import keras\n",
    "import tensorflow.keras.backend as K\n",
    "import tensorflow as tf\n",
    "from tensorflow.keras.models import Sequential\n",
    "from tensorflow.keras.callbacks import CSVLogger\n",
    "from tensorflow.keras import backend as K\n",
    "from tensorflow.python.keras.engine import data_adapter\n",
    "from tensorflow.keras.layers import LSTM, Conv1D, Input, Lambda, GRU\n",
    "from tensorflow.compat.v1.keras.layers import CuDNNLSTM, CuDNNGRU\n",
    "from tensorflow.keras.layers import Dense,Flatten,Dropout, MaxPooling1D\n",
    "from tensorflow.keras.layers import BatchNormalization\n",
    "from tensorflow.keras.layers import GlobalMaxPooling1D, AveragePooling1D\n",
    "from tensorflow.keras.callbacks import ModelCheckpoint, EarlyStopping\n",
    "import toml\n",
    "from math import floor\n",
    "\n",
    "from ipynb.fs.full.V07_Utils  import *\n",
    "from ipynb.fs.full.V07_Prepare_dataset import *"
   ]
  },
  {
   "cell_type": "code",
   "execution_count": 8,
   "metadata": {
    "id": "a45c215e",
    "outputId": "702012be-d15f-4c17-83d4-93e0545eef77"
   },
   "outputs": [
    {
     "name": "stdout",
     "output_type": "stream",
     "text": [
      "Num GPUs Available:  0\n"
     ]
    }
   ],
   "source": [
    "######################################################################\n",
    "# Init Configuration\n",
    "######################################################################\n",
    "\n",
    "config_path = 'C:/Users/Thomas Weikert/Documents/Thesis/Project_V07_24092021/Code/V07_config.toml'\n",
    "cfg = toml.load(config_path)\n",
    "\n",
    "# General \n",
    "n_in_seq = cfg['n_in_seq_quat']\n",
    "n_out_seq = cfg['n_out_seq_quat']\n",
    "n_steps = cfg['n_steps'] \n",
    "LAT_in_rows = cfg['LAT_in_rows'] \n",
    "\n",
    "# model ID --> specify this for every new model\n",
    "model_id = cfg['7_1_model_ID']\n",
    "model_type = cfg['7_model_type']\n",
    "\n",
    "# Directories \n",
    "Path_dataset01_test = cfg['Path_dataset01']\n",
    "Path_results_dataset01_GRU_quat_model_id = cfg['Path_results_dataset01'] + model_type + \"/\" + model_id  + \"/\" \n",
    "\n",
    "# Tensorflow configuration\n",
    "config = tf.compat.v1.ConfigProto()\n",
    "config.gpu_options.allow_growth = True\n",
    "sess = tf.compat.v1.Session(config=config)\n",
    "print(\"Num GPUs Available: \", len(tf.config.list_physical_devices(\"GPU\")))"
   ]
  },
  {
   "cell_type": "code",
   "execution_count": 9,
   "metadata": {
    "id": "5d9f0bb0"
   },
   "outputs": [],
   "source": [
    "def euclidean_distance_loss(y_true, y_pred):\n",
    "    \"\"\"\n",
    "    Euclidean distance loss\n",
    "    https://en.wikipedia.org/wiki/Euclidean_distance\n",
    "    :param y_true: TensorFlow/Theano tensor\n",
    "    :param y_pred: TensorFlow/Theano tensor of the same shape as y_true\n",
    "    :return: float\n",
    "    \"\"\"\n",
    "    return K.sqrt(K.sum(K.square(y_pred - y_true), axis=-1))\n"
   ]
  },
  {
   "cell_type": "code",
   "execution_count": 10,
   "metadata": {
    "id": "d93cea40"
   },
   "outputs": [],
   "source": [
    "def GRU_v01(X_train, y_train, Neurons, Dropout_rate,Learning_rate, Decay):\n",
    "\n",
    "    # the dataset knows the number of features, e.g. 2\n",
    "    n_steps, n_features, n_outputs = X_train.shape[1], X_train.shape[2], y_train.shape[1]\n",
    "\n",
    "    # define model\n",
    "    model = Sequential()\n",
    "    model.add(GRU(Neurons, input_shape=(n_steps, n_features),return_state=False , return_sequences=True))\n",
    "    model.add(GRU(Neurons,return_state=False , return_sequences=False))\n",
    "    model.add(Flatten())\n",
    "    model.add(Dense(n_features))\n",
    "    \n",
    "    #opt = tf.keras.optimizers.Adamax(learning_rate=Learning_rate, beta_1=0.9, beta_2=0.999, epsilon=1e-07, name=\"Adamax\")\n",
    "    opt = tf.keras.optimizers.Adam(learning_rate=Learning_rate, beta_1=0.9, beta_2=0.999, epsilon=1e-08, decay=Decay)\n",
    "    model.compile(opt, loss=euclidean_distance_loss) #run_eagerly=True   \n",
    "    #model.train_step = make_print_data_and_train_step(model)\n",
    "    model.summary()\n",
    "    \n",
    "    return model"
   ]
  },
  {
   "cell_type": "code",
   "execution_count": 11,
   "metadata": {
    "id": "93c79ddd"
   },
   "outputs": [],
   "source": [
    "def Baseline(X_train, y_train):\n",
    "\n",
    "    # the dataset knows the number of features, e.g. 2\n",
    "    n_steps, n_features, n_outputs = X_train.shape[1], X_train.shape[2], y_train.shape[1]\n",
    "    \n",
    "    input_lyr = Input(shape=(n_steps, n_features), dtype=tf.float32)\n",
    "    sliced_lyr = Lambda(lambda X_train: X_train[:,-1,:])\n",
    "    baseline = Sequential([input_lyr,sliced_lyr,])\n",
    "\n",
    "    #opt = tf.keras.optimizers.Adam(learning_rate=Learning_rate, beta_1=0.9, beta_2=0.999, epsilon=1e-08, decay=Decay)\n",
    "    baseline.compile(loss=euclidean_distance_loss) #run_eagerly=True\n",
    "    #baseline.train_step = make_print_data_and_train_step(baseline)\n",
    "    \n",
    "    return baseline"
   ]
  },
  {
   "cell_type": "code",
   "execution_count": 12,
   "metadata": {
    "id": "743f93f2"
   },
   "outputs": [],
   "source": [
    "def save_model(model, path):\n",
    "# serialize model to YAML\n",
    "    model_yaml = model.to_yaml()\n",
    "    with open(path +  \"_CUDNN_arch.yaml\", \"w\") as yaml_file:\n",
    "        yaml_file.write(model_yaml)\n",
    "    model.save_weights(path + \"_CUDNN_best_model.h5\")\n",
    "    return print(\"Saved model to disk\")"
   ]
  },
  {
   "cell_type": "code",
   "execution_count": 13,
   "metadata": {
    "id": "6d37d0a4"
   },
   "outputs": [],
   "source": [
    "def reset_random_seeds():\n",
    "   os.environ['PYTHONHASHSEED']=str(2)\n",
    "   tf.random.set_seed(2)\n",
    "   np.random.seed(2)\n",
    "   random.seed(2)"
   ]
  },
  {
   "cell_type": "markdown",
   "metadata": {
    "id": "53c1519d"
   },
   "source": [
    "# Model training"
   ]
  },
  {
   "cell_type": "code",
   "execution_count": 14,
   "metadata": {
    "id": "b7987273"
   },
   "outputs": [],
   "source": [
    "y_true_list = []\n",
    "y_pred_list = []\n",
    "\n",
    "\n",
    "def make_print_data_and_train_step(keras_model):\n",
    "        original_train_step = keras_model.train_step\n",
    "\n",
    "        def print_data_and_train_step(original_data):\n",
    "            # Basically copied one-to-one from https://git.io/JvDTv\n",
    "            data = data_adapter.expand_1d(original_data)\n",
    "            x, y_true, w = data_adapter.unpack_x_y_sample_weight(data)\n",
    "            y_pred = keras_model(x, training=True)\n",
    "\n",
    "            # this is pretty much like on_train_batch_begin\n",
    "            #K.print_tensor(w, \"Sample weight (w) =\")\n",
    "            #K.print_tensor(x, \"Batch input (x) =\")\n",
    "            #K.print_tensor(y_true, \"Batch output (y_true) =\")\n",
    "            #K.print_tensor(y_pred, \"Prediction (y_pred) =\")\n",
    "\n",
    "            result = original_train_step(original_data)     \n",
    "\n",
    "\n",
    "            # add anything here for on_train_batch_end-like behavior\n",
    "\n",
    "            y_true_np = y_true.numpy()\n",
    "            y_true_list.append(y_true_np)\n",
    "            \n",
    "\n",
    "            y_pred_np = y_pred.numpy()\n",
    "            y_pred_list.append(y_pred_np)\n",
    "           \n",
    "            y_true_df = pd.DataFrame(np.row_stack(y_true_list), columns= cfg['quat_coords_true'])\n",
    "            y_true_df.to_csv(os.path.join(Path_results_dataset01_GRU_quat_model_id + 'y_true.csv'), index=False)\n",
    "\n",
    "            y_pred_df = pd.DataFrame(np.row_stack(y_pred_list), columns= cfg['quat_coords_pred'])\n",
    "            y_pred_df.to_csv(os.path.join(Path_results_dataset01_GRU_quat_model_id + 'y_pred.csv'), index=False)\n",
    "\n",
    "\n",
    "            return result\n",
    "\n",
    "        \n",
    "\n",
    "        return print_data_and_train_step"
   ]
  },
  {
   "cell_type": "code",
   "execution_count": 15,
   "metadata": {
    "id": "6dedcff2"
   },
   "outputs": [],
   "source": [
    "class CustomCallback(keras.callbacks.Callback):\n",
    "    \n",
    "    \n",
    "    def on_train_batch_end(self, batch, logs=None):\n",
    "        print(\"For batch {}, loss is {:7.4f}.\".format(batch, logs[\"loss\"]))\n",
    "\n",
    "    def on_test_batch_end(self, batch, logs=None):\n",
    "        print(\"For batch {}, loss is {:7.4f}.\".format(batch, logs[\"loss\"]))\n",
    "\n",
    "    def on_epoch_end(self, epoch, logs=None):\n",
    "        print(\"The average loss for epoch {} is {:7.4f} \".format(epoch, logs[\"loss\"]))"
   ]
  },
  {
   "cell_type": "code",
   "execution_count": 19,
   "metadata": {
    "id": "fbd457ed"
   },
   "outputs": [],
   "source": [
    "#LAT_in_rows = [1,2,3,4,5,6,7,8,9,10]\n",
    "Neurons = [32]\n",
    "Dropout_rate = [0.1]\n",
    "Learning_rate = [0.01]\n",
    "Batch_size = [128]\n",
    "Epochs = [20]\n",
    "Decay = [0.01]"
   ]
  },
  {
   "cell_type": "code",
   "execution_count": 20,
   "metadata": {
    "id": "7bb8ef3f",
    "outputId": "d42c34c9-6551-42a5-cae4-b81bc1b3ef1d"
   },
   "outputs": [
    {
     "name": "stdout",
     "output_type": "stream",
     "text": [
      "------------- GRU_v01 --------------------\n",
      "24491\n",
      "24490\n",
      "X shape is: (24461, 30, 3)\n",
      "y shape is: (24461, 3)\n",
      "------\n",
      "10491\n",
      "10490\n",
      "X shape is: (10461, 30, 3)\n",
      "y shape is: (10461, 3)\n",
      "------\n",
      "Model: \"sequential\"\n",
      "_________________________________________________________________\n",
      "Layer (type)                 Output Shape              Param #   \n",
      "=================================================================\n",
      "gru (GRU)                    (None, 30, 32)            3552      \n",
      "_________________________________________________________________\n",
      "gru_1 (GRU)                  (None, 32)                6336      \n",
      "_________________________________________________________________\n",
      "flatten (Flatten)            (None, 32)                0         \n",
      "_________________________________________________________________\n",
      "dense (Dense)                (None, 3)                 99        \n",
      "=================================================================\n",
      "Total params: 9,987\n",
      "Trainable params: 9,987\n",
      "Non-trainable params: 0\n",
      "_________________________________________________________________\n",
      "Epoch 1/20\n",
      "192/192 [==============================] - 7s 38ms/step - loss: 0.0068 - val_loss: 0.0028\n",
      "Epoch 2/20\n",
      "192/192 [==============================] - 6s 31ms/step - loss: 0.0021 - val_loss: 0.0018\n",
      "Epoch 3/20\n",
      "192/192 [==============================] - 6s 32ms/step - loss: 0.0017 - val_loss: 0.0017\n",
      "Epoch 4/20\n",
      "192/192 [==============================] - 6s 33ms/step - loss: 0.0016 - val_loss: 0.0018\n",
      "Epoch 5/20\n",
      "192/192 [==============================] - 6s 34ms/step - loss: 0.0016 - val_loss: 0.0018\n",
      "Epoch 6/20\n",
      "192/192 [==============================] - 6s 33ms/step - loss: 0.0016 - val_loss: 0.0017\n",
      "Epoch 7/20\n",
      "192/192 [==============================] - 6s 33ms/step - loss: 0.0016 - val_loss: 0.0017\n",
      "Epoch 8/20\n",
      "192/192 [==============================] - 6s 33ms/step - loss: 0.0016 - val_loss: 0.0017\n",
      "Epoch 9/20\n",
      "192/192 [==============================] - 6s 34ms/step - loss: 0.0016 - val_loss: 0.0017\n",
      "Epoch 10/20\n",
      "192/192 [==============================] - 7s 34ms/step - loss: 0.0015 - val_loss: 0.0017\n",
      "Epoch 11/20\n",
      "192/192 [==============================] - 9s 45ms/step - loss: 0.0015 - val_loss: 0.0017\n",
      "Epoch 12/20\n",
      "192/192 [==============================] - 7s 36ms/step - loss: 0.0015 - val_loss: 0.0017\n",
      "Epoch 13/20\n",
      "192/192 [==============================] - 7s 34ms/step - loss: 0.0015 - val_loss: 0.0017\n",
      "Epoch 14/20\n",
      "192/192 [==============================] - 7s 34ms/step - loss: 0.0015 - val_loss: 0.0017\n",
      "Epoch 15/20\n",
      "192/192 [==============================] - 7s 36ms/step - loss: 0.0015 - val_loss: 0.0017\n",
      "Epoch 16/20\n",
      "192/192 [==============================] - 7s 38ms/step - loss: 0.0015 - val_loss: 0.0017\n",
      "Epoch 17/20\n",
      "192/192 [==============================] - 7s 35ms/step - loss: 0.0015 - val_loss: 0.0017\n",
      "Epoch 18/20\n",
      "192/192 [==============================] - 7s 36ms/step - loss: 0.0015 - val_loss: 0.0017\n",
      "Epoch 19/20\n",
      "192/192 [==============================] - 8s 39ms/step - loss: 0.0015 - val_loss: 0.0017\n",
      "Epoch 20/20\n",
      "192/192 [==============================] - 7s 39ms/step - loss: 0.0015 - val_loss: 0.0016\n",
      "Saved model to disk\n"
     ]
    },
    {
     "data": {
      "image/png": "[encoded data removed]",
      "text/plain": [
       "<Figure size 432x288 with 1 Axes>"
      ]
     },
     "metadata": {
      "needs_background": "light"
     },
     "output_type": "display_data"
    },
    {
     "data": {
      "image/png": "[encoded data removed]",
      "text/plain": [
       "<Figure size 432x288 with 1 Axes>"
      ]
     },
     "metadata": {
      "needs_background": "light"
     },
     "output_type": "display_data"
    }
   ],
   "source": [
    "for Neurons_i in Neurons:\n",
    "    for Dropout_rate_i in Dropout_rate:\n",
    "        for Learning_rate_i in Learning_rate:\n",
    "            for Batch_size_i in Batch_size:\n",
    "                for Epochs_i in Epochs:\n",
    "                    for Decay_i in Decay:\n",
    "                    \n",
    "                        reset_random_seeds()\n",
    "                        \n",
    "                        #### GRU_v01 #######################################\n",
    "                        print(\"------------- GRU_v01 --------------------\")\n",
    "                        \n",
    "                        ########### GRU Delta ####################\n",
    "                        X_train, X_val, y_train, y_val = prepare_training_data_pos_delta(Path_dataset01_test)\n",
    "                        ############################################\n",
    "                        \n",
    "                        \n",
    "                        ########### GRU Absolut ####################\n",
    "                        #X_train, X_val, y_train, y_val = prepare_training_data_pos(Path_dataset01_test)\n",
    "                        ############################################\n",
    "                        \n",
    "                        \n",
    "                        \n",
    "                        model = GRU_v01(X_train, y_train, Neurons_i, Dropout_rate_i,Learning_rate_i, Decay_i)\n",
    "                        \n",
    "                        \n",
    "                        individual_name = \"Delta_GRU_v01_Neurons_\" + str(Neurons_i) + \"_\" + \"_DR_\" + str(Dropout_rate_i) + \"__\" + \"LR_\" + str(Learning_rate_i) + \"__\" + \"Batch_\" + str(Batch_size_i) + \"__\" + \"Epochs_\" + str(Epochs_i) \n",
    "                        \n",
    "                        # callbacks parameter\n",
    "                        #es = EarlyStopping(monitor='val_loss', mode='min', patience=10)\n",
    "                        #mc = ModelCheckpoint(Path_results_dataset01_GRU_quat_model_id + \"/Model/\" + individual_name +  '_CUDNN_best_model.h5', monitor ='val_loss', mode='min', save_best_only=True, verbose=0)\n",
    "                        #csv_logger = CSVLogger(Path_results_dataset01_GRU_quat_model_id + \"/Model/\" + individual_name + '.csv', append=True, separator=';')\n",
    "                        \n",
    "                        # validation_data=(X_val, y_val)\n",
    "                        history = model.fit(X_train, y_train, validation_data=(X_val, y_val), shuffle = False, batch_size=Batch_size_i, epochs=Epochs_i, verbose=1) #callbacks=[es,mc,csv_logger] , callbacks=[CustomCallback()]\n",
    "                        #val_history = model.evaluate(X_val, y_val, batch_size=1, verbose=1) #callbacks=[es,mc,csv_logger]\n",
    "\n",
    "                        save_model(model,Path_results_dataset01_GRU_quat_model_id + \"/Model/\" + individual_name )\n",
    "                        \n",
    "                        \n",
    "                        loss_history = history.history[\"loss\"]\n",
    "                        plt.plot(history.history['loss'])\n",
    "                        plt.plot(history.history['val_loss'])\n",
    "                        plt.title('model loss')\n",
    "                        plt.ylabel('loss')\n",
    "                        plt.xlabel('epoch')\n",
    "                        plt.legend(['train', 'test'], loc='upper left')\n",
    "                        plt.show()\n",
    "                        \n",
    "                        loss_history = np.array(history.history[\"loss\"]) \n",
    "                        df_loss = pd.DataFrame(loss_history)\n",
    "                        df_loss = df_loss[df_loss > 0.2]\n",
    "                        df_loss = df_loss[df_loss < 0.2]\n",
    "                        \n",
    "                        val_loss_history = np.array(history.history[\"val_loss\"]) \n",
    "                        df_val_loss = pd.DataFrame(val_loss_history)\n",
    "                        df_val_loss = df_val_loss[df_loss > 0.2]\n",
    "                        df_val_loss = df_val_loss[df_loss < 0.2]\n",
    "\n",
    "                \n",
    "                        plt.plot(df_loss)\n",
    "                        plt.plot(df_val_loss)\n",
    "                        plt.title('model loss')\n",
    "                        plt.ylabel('loss')\n",
    "                        plt.xlabel('epoch')\n",
    "                        plt.legend(['train', 'test'], loc='upper left')\n",
    "                        plt.show()\n",
    "                        \n",
    "                        \n",
    "                        \n",
    "                        tf.keras.backend.clear_session()\n",
    "                        "
   ]
  },
  {
   "cell_type": "markdown",
   "metadata": {
    "id": "243a8a2a"
   },
   "source": [
    "# Model testing"
   ]
  },
  {
   "cell_type": "code",
   "execution_count": 21,
   "metadata": {
    "id": "cfac9f4f",
    "outputId": "267cac83-18b8-4aa9-aef8-ddc20369e2bb"
   },
   "outputs": [
    {
     "name": "stdout",
     "output_type": "stream",
     "text": [
      "C:/Users/Thomas Weikert/Documents/Thesis/Project_V07_24092021/Data/01_Dataset\\1_full_continious.csv\n",
      "34990\n",
      "34989\n",
      "X shape is: (34960, 30, 3)\n",
      "y shape is: (34960, 3)\n",
      "------\n",
      "274/274 [==============================] - 3s 9ms/step - loss: 0.0015\n",
      "--------\n",
      "C:/Users/Thomas Weikert/Documents/Thesis/Project_V07_24092021/Data/01_Dataset\\2_full_continious.csv\n",
      "14990\n",
      "14989\n",
      "X shape is: (14960, 30, 3)\n",
      "y shape is: (14960, 3)\n",
      "------\n",
      "117/117 [==============================] - 1s 10ms/step - loss: 0.0017\n",
      "--------\n",
      "C:/Users/Thomas Weikert/Documents/Thesis/Project_V07_24092021/Data/01_Dataset\\3_full_continious.csv\n",
      "44990\n",
      "44989\n",
      "X shape is: (44960, 30, 3)\n",
      "y shape is: (44960, 3)\n",
      "------\n",
      "352/352 [==============================] - 3s 10ms/step - loss: 0.0015\n",
      "--------\n",
      "C:/Users/Thomas Weikert/Documents/Thesis/Project_V07_24092021/Data/01_Dataset\\4_full_continious.csv\n",
      "69990\n",
      "69989\n",
      "X shape is: (69960, 30, 3)\n",
      "y shape is: (69960, 3)\n",
      "------\n",
      "547/547 [==============================] - 5s 10ms/step - loss: 0.0016\n",
      "--------\n",
      "C:/Users/Thomas Weikert/Documents/Thesis/Project_V07_24092021/Data/01_Dataset\\5_full_continious.csv\n",
      "19990\n",
      "19989\n",
      "X shape is: (19960, 30, 3)\n",
      "y shape is: (19960, 3)\n",
      "------\n",
      "156/156 [==============================] - 2s 10ms/step - loss: 0.0011\n",
      "--------\n"
     ]
    }
   ],
   "source": [
    "for csv in get_csv_files(Path_dataset01_test, \"full*cont\"):\n",
    "    print(csv)\n",
    "\n",
    "    \n",
    "    ########### GRU Delta ####################\n",
    "    X_test, y_test = prepare_testing_data_pos_special_delta(csv)\n",
    "    ############################################\n",
    "\n",
    "\n",
    "    ########### GRU Absolut ####################\n",
    "    #X_test, y_test = prepare_testing_data_pos_special(csv)\n",
    "    ############################################\n",
    "    \n",
    "    \n",
    "    \n",
    "    model.evaluate(X_test, y_test, batch_size=128, verbose=1) #callbacks=[es,mc,csv_logger]\n",
    "    print(\"--------\")"
   ]
  },
  {
   "cell_type": "code",
   "execution_count": null,
   "metadata": {
    "id": "4e60ace7"
   },
   "outputs": [],
   "source": [
    "loss_history = np.array(history.history[\"loss\"]) \n",
    "df_loss = pd.DataFrame(loss_history)\n",
    "df_loss = df_loss[df_loss < 0.2]\n",
    "\n",
    "val_loss_history = np.array(history.history[\"val_loss\"]) \n",
    "df_val_loss = pd.DataFrame(val_loss_history)\n",
    "df_val_loss = df_val_loss[df_val_loss < 0.2]\n",
    "\n",
    "\n",
    "plt.plot(df_loss)\n",
    "plt.plot(df_val_loss)\n",
    "plt.title('model loss')\n",
    "plt.ylabel('loss')\n",
    "plt.xlabel('epoch')\n",
    "plt.legend(['train', 'test'], loc='upper left')\n",
    "plt.show()"
   ]
  },
  {
   "cell_type": "markdown",
   "metadata": {
    "id": "761b0ccf"
   },
   "source": [
    "# BASELINE"
   ]
  },
  {
   "cell_type": "code",
   "execution_count": null,
   "metadata": {
    "id": "947f1d5b"
   },
   "outputs": [],
   "source": [
    "#LAT_in_rows = [1,2,3,4,5,6,7,8,9,10]\n",
    "Neurons = [32]\n",
    "Batch_size = [256]\n",
    "Epochs = [1]\n",
    "\n",
    "tf.random.set_seed(0)"
   ]
  },
  {
   "cell_type": "code",
   "execution_count": null,
   "metadata": {
    "id": "21ed6175",
    "outputId": "4a513f59-bfe6-4a8d-ac23-94844cce1e55"
   },
   "outputs": [
    {
     "name": "stdout",
     "output_type": "stream",
     "text": [
      "C:/Users/weikert1/Documents/Thesis/Project_V07_24092021/Data/01_Dataset\\1_full_continious.csv\n",
      "------------- Baseline --------------------\n",
      "34995\n",
      "34994\n",
      "X shape is: (34965, 30, 3)\n",
      "y shape is: (34965, 3)\n",
      "------\n",
      "------------- Baseline --------------------\n",
      "WARNING:tensorflow:Please add `keras.layers.InputLayer` instead of `keras.Input` to Sequential model. `keras.Input` is intended to be used by Functional model.\n",
      "137/137 [==============================] - 0s 2ms/step - loss: 0.0131\n",
      "C:/Users/weikert1/Documents/Thesis/Project_V07_24092021/Data/01_Dataset\\2_full_continious.csv\n",
      "------------- Baseline --------------------\n",
      "14995\n",
      "14994\n",
      "X shape is: (14965, 30, 3)\n",
      "y shape is: (14965, 3)\n",
      "------\n",
      "------------- Baseline --------------------\n",
      "WARNING:tensorflow:Please add `keras.layers.InputLayer` instead of `keras.Input` to Sequential model. `keras.Input` is intended to be used by Functional model.\n",
      "59/59 [==============================] - 0s 2ms/step - loss: 0.0130\n",
      "C:/Users/weikert1/Documents/Thesis/Project_V07_24092021/Data/01_Dataset\\3_full_continious.csv\n",
      "------------- Baseline --------------------\n",
      "44995\n",
      "44994\n",
      "X shape is: (44965, 30, 3)\n",
      "y shape is: (44965, 3)\n",
      "------\n",
      "------------- Baseline --------------------\n",
      "WARNING:tensorflow:Please add `keras.layers.InputLayer` instead of `keras.Input` to Sequential model. `keras.Input` is intended to be used by Functional model.\n",
      "176/176 [==============================] - 1s 3ms/step - loss: 0.0155\n",
      "C:/Users/weikert1/Documents/Thesis/Project_V07_24092021/Data/01_Dataset\\4_full_continious.csv\n",
      "------------- Baseline --------------------\n",
      "69995\n",
      "69994\n",
      "X shape is: (69965, 30, 3)\n",
      "y shape is: (69965, 3)\n",
      "------\n",
      "------------- Baseline --------------------\n",
      "WARNING:tensorflow:Please add `keras.layers.InputLayer` instead of `keras.Input` to Sequential model. `keras.Input` is intended to be used by Functional model.\n",
      "274/274 [==============================] - 1s 2ms/step - loss: 0.0147\n",
      "C:/Users/weikert1/Documents/Thesis/Project_V07_24092021/Data/01_Dataset\\5_full_continious.csv\n",
      "------------- Baseline --------------------\n",
      "19995\n",
      "19994\n",
      "X shape is: (19965, 30, 3)\n",
      "y shape is: (19965, 3)\n",
      "------\n",
      "------------- Baseline --------------------\n",
      "WARNING:tensorflow:Please add `keras.layers.InputLayer` instead of `keras.Input` to Sequential model. `keras.Input` is intended to be used by Functional model.\n",
      "78/78 [==============================] - 0s 2ms/step - loss: 0.0100\n"
     ]
    }
   ],
   "source": [
    "for Neurons_i in Neurons:\n",
    "    for Dropout_rate_i in Dropout_rate:\n",
    "        for Learning_rate_i in Learning_rate:\n",
    "            for Batch_size_i in Batch_size:\n",
    "                for Epochs_i in Epochs:\n",
    "                    for Decay_i in Decay:\n",
    "                        for csv in get_csv_files(Path_dataset01_test, \"full*cont\"):\n",
    "                            print(csv)\n",
    "\n",
    "                            tf.random.set_seed(0)\n",
    "                    \n",
    "                        \n",
    "                            #### Baseline #######################################\n",
    "                            print(\"------------- Baseline --------------------\")\n",
    "                            X_test, y_test = prepare_testing_data_pos_special(csv)\n",
    "\n",
    "                            #### Baseline #######################################\n",
    "                            print(\"------------- Baseline --------------------\")\n",
    "\n",
    "                            baseline = Baseline(X_test, y_test)\n",
    "\n",
    "                            baseline_history = baseline.fit(X_test, y_test, shuffle = False, batch_size=Batch_size_i, epochs=Epochs_i, verbose=1) #callbacks=[es,mc,csv_logger] , callbacks=[CustomCallback()]\n",
    "\n",
    "                            tf.keras.backend.clear_session()\n",
    "                        "
   ]
  },
  {
   "cell_type": "code",
   "execution_count": null,
   "metadata": {
    "id": "28c44b09"
   },
   "outputs": [],
   "source": []
  }
 ],
 "metadata": {
  "colab": {
   "name": "V07_GRU_position.ipynb",
   "provenance": []
  },
  "kernelspec": {
   "display_name": "Python 3",
   "language": "python",
   "name": "python3"
  },
  "language_info": {
   "codemirror_mode": {
    "name": "ipython",
    "version": 3
   },
   "file_extension": ".py",
   "mimetype": "text/x-python",
   "name": "python",
   "nbconvert_exporter": "python",
   "pygments_lexer": "ipython3",
   "version": "3.7.6"
  }
 },
 "nbformat": 4,
 "nbformat_minor": 5
}

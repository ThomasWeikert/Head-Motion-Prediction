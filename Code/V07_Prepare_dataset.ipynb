{
 "cells": [
  {
   "cell_type": "code",
   "execution_count": 5,
   "metadata": {
    "id": "2faba297"
   },
   "outputs": [],
   "source": [
    "import numpy as np\n",
    "from numpy import array\n",
    "from numpy import hstack\n",
    "from pickle import dump\n",
    "import pandas as pd\n",
    "from sklearn.model_selection import TimeSeriesSplit\n",
    "from sklearn.preprocessing import MinMaxScaler\n",
    "from pyquaternion import Quaternion\n",
    "from math import floor\n",
    "import toml\n",
    "\n",
    "from ipynb.fs.full.V07_Utils import *"
   ]
  },
  {
   "cell_type": "code",
   "execution_count": 6,
   "metadata": {
    "id": "bc9f532b"
   },
   "outputs": [],
   "source": [
    "######################################################################\n",
    "# Init Configuration\n",
    "######################################################################\n",
    "\n",
    "config_path = 'C:/Users/Thomas Weikert/Documents/Thesis/Project_V07_24092021/Code/V07_config.toml'\n",
    "cfg = toml.load(config_path)\n",
    "\n",
    "\n",
    "######################################################################\n",
    "# Init Parameters\n",
    "######################################################################\n",
    "\n",
    "# define number of input and output sequences for quaternions\n",
    "n_in_seq_quat = cfg['n_in_seq_quat']\n",
    "n_out_seq_quat = cfg['n_out_seq_quat']\n",
    "\n",
    "# define number of input and output sequences for quaternions + gaze \n",
    "n_in_seq_quat_gaze = cfg['n_in_seq_quat_gaze']\n",
    "n_out_seq_quat_gaze = cfg['n_out_seq_quat_gaze']\n",
    "\n",
    "# define number of input and output sequences for position\n",
    "n_in_seq_pos = cfg['n_in_seq_pos']\n",
    "n_out_seq_pos = cfg['n_out_seq_pos']\n",
    "\n",
    "# define number of input and output sequences for position + gaze \n",
    "n_in_seq_pos_gaze = cfg['n_in_seq_pos_gaze']\n",
    "n_out_seq_pos_gaze = cfg['n_out_seq_pos_gaze']\n",
    "\n",
    "\n",
    "# define number of time steps to look in the past \n",
    "n_steps = cfg['n_steps'] \n",
    "\n",
    "# define Look Ahead Time (LAT)\n",
    "LAT_in_rows = cfg['LAT_in_rows'] #6*16,66ms= 64ms"
   ]
  },
  {
   "cell_type": "markdown",
   "metadata": {
    "id": "ad3181af"
   },
   "source": [
    "# Multivariate data preparation"
   ]
  },
  {
   "cell_type": "code",
   "execution_count": 7,
   "metadata": {
    "id": "84e4c3fb"
   },
   "outputs": [],
   "source": [
    "def split_sequences(sequences, n_steps, LAT, n_in_seq, n_out_seq):\n",
    "    X, y = list(), list()\n",
    "    \n",
    "    for i in range(len(sequences)): \n",
    "        # find the end of this pattern\n",
    "        stop_ix = i + n_steps\n",
    "        shift_ix = i + n_steps + LAT  \n",
    "        seq_length = len(sequences) - LAT\n",
    "        \n",
    "        if stop_ix > seq_length:\n",
    "            print(stop_ix)\n",
    "            print(seq_length)\n",
    "            break\n",
    "        #seq_x = sequences[i:stop_ix,:n_in_seq]\n",
    "        #seq_y = sequences[shift_ix-1,-n_out_seq:]\n",
    "        \n",
    "        seq_x = sequences[i:stop_ix,n_in_seq:]\n",
    "        seq_y = sequences[shift_ix-1,:n_out_seq]\n",
    "        \n",
    "        \n",
    "        X.append(seq_x)\n",
    "        y.append(seq_y)\n",
    "\n",
    "    return np.array(X), np.array(y)"
   ]
  },
  {
   "cell_type": "code",
   "execution_count": 8,
   "metadata": {},
   "outputs": [
    {
     "data": {
      "text/plain": [
       "(['1', '2', '3', '4'], ['5', '6', '7', '8'])"
      ]
     },
     "execution_count": 8,
     "metadata": {},
     "output_type": "execute_result"
    }
   ],
   "source": [
    "seq_t = ['1','2','3','4','5','6','7','8','9','10']\n",
    "seq_e = ['1','2','3','4','5','6','7','8']\n",
    "\n",
    "seq_x = seq_e[:4]\n",
    "seq_y = seq_e[-4:]\n",
    "seq_x , seq_y"
   ]
  },
  {
   "cell_type": "code",
   "execution_count": 9,
   "metadata": {
    "id": "e9e10b32"
   },
   "outputs": [],
   "source": [
    "def batch_splitter(X,y):\n",
    "    print(\"hi this is your new splitter\")\n",
    "    len_X = len(X)\n",
    "    Mod_512 = (len_X)%512\n",
    "    X = X[:-Mod_512]\n",
    "    y = y[:-Mod_512]\n",
    "    \n",
    "    return X,y"
   ]
  },
  {
   "cell_type": "code",
   "execution_count": 10,
   "metadata": {
    "id": "ea43f9e6"
   },
   "outputs": [],
   "source": [
    "########################## \n",
    "# Quaternion \n",
    "########################## \n",
    "\n",
    "def get_sequence_quat(dataframe, dataset_path_train):\n",
    "\n",
    "    # define sequences   \n",
    "    in_seq4 = dataframe[['qw']].to_numpy()\n",
    "    in_seq5 = dataframe[['qx']].to_numpy()\n",
    "    in_seq6 = dataframe[['qy']].to_numpy()\n",
    "    in_seq7 = dataframe[['qz']].to_numpy()\n",
    "    \n",
    "    out_seq4 = dataframe[['qw']].to_numpy()\n",
    "    out_seq5 = dataframe[['qx']].to_numpy()\n",
    "    out_seq6 = dataframe[['qy']].to_numpy()\n",
    "    out_seq7 = dataframe[['qz']].to_numpy()\n",
    "        \n",
    "    # convert to [rows, columns] structure   \n",
    "    in_seq4 = in_seq4.reshape((len(in_seq4), 1))\n",
    "    in_seq5 = in_seq5.reshape((len(in_seq5), 1))\n",
    "    in_seq6 = in_seq6.reshape((len(in_seq6), 1))\n",
    "    in_seq7 = in_seq7.reshape((len(in_seq7), 1))\n",
    "    \n",
    "    out_seq4 = out_seq4.reshape((len(out_seq4), 1))\n",
    "    out_seq5 = out_seq5.reshape((len(out_seq5), 1))\n",
    "    out_seq6 = out_seq6.reshape((len(out_seq6), 1))\n",
    "    out_seq7 = out_seq7.reshape((len(out_seq7), 1))\n",
    "\n",
    "    # horizontally stack columns\n",
    "    dataset = hstack((in_seq4, in_seq5, in_seq6, in_seq7,out_seq4, out_seq5, out_seq6, out_seq7))\n",
    "        \n",
    "    # convert into input/output\n",
    "    X, y = split_sequences(dataset, n_steps, LAT_in_rows, n_in_seq_quat, n_out_seq_quat)\n",
    "        \n",
    "    print(\"X shape is: \" + str(X.shape))\n",
    "    print(\"y shape is: \" + str(y.shape))\n",
    "    print(\"------\")\n",
    "    \n",
    "    return X,y"
   ]
  },
  {
   "cell_type": "code",
   "execution_count": 27,
   "metadata": {
    "id": "551f1983"
   },
   "outputs": [],
   "source": [
    "########################## \n",
    "# Quaternion Delta\n",
    "########################## \n",
    "\n",
    "def get_sequence_quat_delta(dataframe, dataset_path_train):\n",
    "  \n",
    "    # define sequences   \n",
    "    in_seq4 = dataframe[['qw']].to_numpy()\n",
    "    in_seq5 = dataframe[['qx']].to_numpy()\n",
    "    in_seq6 = dataframe[['qy']].to_numpy()\n",
    "    in_seq7 = dataframe[['qz']].to_numpy()\n",
    "    \n",
    "    out_seq4 = dataframe[['qw']].to_numpy()\n",
    "    out_seq5 = dataframe[['qx']].to_numpy()\n",
    "    out_seq6 = dataframe[['qy']].to_numpy()\n",
    "    out_seq7 = dataframe[['qz']].to_numpy()\n",
    "    \n",
    "    # convert to [rows, columns] structure   \n",
    "    in_seq4 = in_seq4.reshape((len(in_seq4), 1))\n",
    "    in_seq5 = in_seq5.reshape((len(in_seq5), 1))\n",
    "    in_seq6 = in_seq6.reshape((len(in_seq6), 1))\n",
    "    in_seq7 = in_seq7.reshape((len(in_seq7), 1))\n",
    "    \n",
    "    out_seq4 = out_seq4.reshape((len(out_seq4), 1))\n",
    "    out_seq5 = out_seq5.reshape((len(out_seq5), 1))\n",
    "    out_seq6 = out_seq6.reshape((len(out_seq6), 1))\n",
    "    out_seq7 = out_seq7.reshape((len(out_seq7), 1))\n",
    "\n",
    "    # horizontally stack columns\n",
    "    dataset_in = hstack((in_seq4, in_seq5, in_seq6, in_seq7))\n",
    "    dataset_out = hstack((out_seq4, out_seq5, out_seq6, out_seq7))\n",
    "    \n",
    "    # get delta's\n",
    "    dataset_in_q1 = ([Quaternion(q) for q in dataset_in[:-LAT_in_rows]])\n",
    "    dataset_in_q2 = ([Quaternion(q) for q in dataset_in[1:]])\n",
    "    delta_in = np.array([(q1/q2).elements for q1, q2 in zip(dataset_in_q1,dataset_in_q2)])\n",
    "\n",
    "    dataset_out_q1 = ([Quaternion(q) for q in dataset_out[:]])\n",
    "    dataset_out_q2 = ([Quaternion(q) for q in dataset_out[LAT_in_rows:]])\n",
    "    delta_out = np.array([(q1/q2).elements for q1, q2 in zip(dataset_out_q1,dataset_out_q2)])\n",
    "    \n",
    "    delta = hstack((delta_in, delta_out))\n",
    "\n",
    "    # convert into input/output\n",
    "    X, y = split_sequences(delta, n_steps, LAT_in_rows, n_in_seq_quat, n_out_seq_quat)\n",
    "\n",
    "    print(\"X shape is: \" + str(X.shape))\n",
    "    print(\"y shape is: \" + str(y.shape))\n",
    "    print(\"------\")\n",
    "    \n",
    "    return X,y"
   ]
  },
  {
   "cell_type": "code",
   "execution_count": null,
   "metadata": {
    "id": "7c631337"
   },
   "outputs": [],
   "source": [
    "########################## \n",
    "# Quaternion Delta + Gaze\n",
    "########################## \n",
    "\n",
    "def get_sequence_delta_gaze(dataframe, dataset_path_train):\n",
    "\n",
    "    # define sequences   \n",
    "    in_seq2 = dataframe[['Eye X']].to_numpy()\n",
    "    in_seq3 = dataframe[['Eye Y']].to_numpy()\n",
    "    \n",
    "    in_seq4 = dataframe[['qw']].to_numpy()\n",
    "    in_seq5 = dataframe[['qx']].to_numpy()\n",
    "    in_seq6 = dataframe[['qy']].to_numpy()\n",
    "    in_seq7 = dataframe[['qz']].to_numpy()\n",
    "    \n",
    "    out_seq4 = dataframe[['qw']].to_numpy()\n",
    "    out_seq5 = dataframe[['qx']].to_numpy()\n",
    "    out_seq6 = dataframe[['qy']].to_numpy()\n",
    "    out_seq7 = dataframe[['qz']].to_numpy()\n",
    "    \n",
    "    \n",
    "    # convert to [rows, columns] structure   \n",
    "    in_seq2 = in_seq2.reshape((len(in_seq2), 1))\n",
    "    in_seq3 = in_seq3.reshape((len(in_seq3), 1))\n",
    "    \n",
    "    in_seq4 = in_seq4.reshape((len(in_seq4), 1))\n",
    "    in_seq5 = in_seq5.reshape((len(in_seq5), 1))\n",
    "    in_seq6 = in_seq6.reshape((len(in_seq6), 1))\n",
    "    in_seq7 = in_seq7.reshape((len(in_seq7), 1))\n",
    "    \n",
    "    out_seq4 = out_seq4.reshape((len(out_seq4), 1))\n",
    "    out_seq5 = out_seq5.reshape((len(out_seq5), 1))\n",
    "    out_seq6 = out_seq6.reshape((len(out_seq6), 1))\n",
    "    out_seq7 = out_seq7.reshape((len(out_seq7), 1))\n",
    "\n",
    "    # horizontally stack columns\n",
    "    dataset_in_gaze = hstack((in_seq2, in_seq3))\n",
    "    dataset_in_quat = hstack((in_seq4, in_seq5, in_seq6, in_seq7))\n",
    "    dataset_out = hstack((out_seq4, out_seq5, out_seq6, out_seq7))\n",
    "    \n",
    "    # gaze velocities\n",
    "    dataset_in_g1 = dataset_in_gaze[:-LAT_in_rows]\n",
    "    dataset_in_g2 = dataset_in_gaze[1:]\n",
    "    delta_in_gaze = np.array([g1-g2 for g1, g2 in zip(dataset_in_g1,dataset_in_g2)])\n",
    "    \n",
    "    # quaternion velocities\n",
    "    dataset_in_q1 = ([Quaternion(q) for q in dataset_in_quat[:-LAT_in_rows]])\n",
    "    dataset_in_q2 = ([Quaternion(q) for q in dataset_in_quat[1:]])\n",
    "    delta_in_quat = np.array([(q1/q2).elements for q1, q2 in zip(dataset_in_q1,dataset_in_q2)])\n",
    "\n",
    "    dataset_out_q1 = ([Quaternion(q) for q in dataset_out[:]])\n",
    "    dataset_out_q2 = ([Quaternion(q) for q in dataset_out[LAT_in_rows:]])\n",
    "    delta_out = np.array([(q1/q2).elements for q1, q2 in zip(dataset_out_q1,dataset_out_q2)])\n",
    "    \n",
    "    delta = hstack((delta_in_quat, delta_in_gaze , delta_out))\n",
    "    print(delta.shape)\n",
    "\n",
    "    # convert into input/output\n",
    "    X, y = split_sequences(delta, n_steps, LAT_in_rows, n_in_seq_quat_gaze, n_out_seq_quat_gaze)\n",
    "        \n",
    "    print(\"X shape is: \" + str(X.shape))\n",
    "    print(\"y shape is: \" + str(y.shape))\n",
    "    print(\"------\")\n",
    "    \n",
    "    return X,y"
   ]
  },
  {
   "cell_type": "code",
   "execution_count": 13,
   "metadata": {
    "id": "e8b468af"
   },
   "outputs": [],
   "source": [
    "########################## \n",
    "# Position\n",
    "########################## \n",
    "\n",
    "def get_sequence_position(dataframe):\n",
    "\n",
    "    # define sequences\n",
    "    in_seq4 = dataframe[['x']].to_numpy()\n",
    "    in_seq5 = dataframe[['y']].to_numpy()\n",
    "    in_seq6 = dataframe[['z']].to_numpy()\n",
    "    \n",
    "    out_seq4 = dataframe[['x']].to_numpy()\n",
    "    out_seq5 = dataframe[['y']].to_numpy()\n",
    "    out_seq6 = dataframe[['z']].to_numpy()\n",
    "\n",
    "    # convert to [rows, columns] structure   \n",
    "    in_seq4 = in_seq4.reshape((len(in_seq4), 1))\n",
    "    in_seq5 = in_seq5.reshape((len(in_seq5), 1))\n",
    "    in_seq6 = in_seq6.reshape((len(in_seq6), 1))\n",
    "    \n",
    "    out_seq4 = out_seq4.reshape((len(out_seq4), 1))\n",
    "    out_seq5 = out_seq5.reshape((len(out_seq5), 1))\n",
    "    out_seq6 = out_seq6.reshape((len(out_seq6), 1))\n",
    "\n",
    "    # horizontally stack columns\n",
    "    dataset = hstack((in_seq4, in_seq5, in_seq6, out_seq4, out_seq5, out_seq6))\n",
    "    \n",
    "    # convert into input/output\n",
    "    X, y = split_sequences(dataset, n_steps, LAT_in_rows, n_in_seq_pos, n_out_seq_pos)\n",
    "\n",
    "    print(\"X shape is: \" + str(X.shape))\n",
    "    print(\"y shape is: \" + str(y.shape))\n",
    "    print(\"------\")\n",
    "    \n",
    "    return X,y"
   ]
  },
  {
   "cell_type": "code",
   "execution_count": 14,
   "metadata": {
    "id": "d6a57b27"
   },
   "outputs": [],
   "source": [
    "########################## \n",
    "# Position Delta\n",
    "########################## \n",
    "\n",
    "def get_sequence_position_delta(dataframe, dataset_path_train):\n",
    "  \n",
    "    # define sequences\n",
    "    in_seq4 = dataframe[['x']].to_numpy()\n",
    "    in_seq5 = dataframe[['y']].to_numpy()\n",
    "    in_seq6 = dataframe[['z']].to_numpy()\n",
    "    \n",
    "    out_seq4 = dataframe[['x']].to_numpy()\n",
    "    out_seq5 = dataframe[['y']].to_numpy()\n",
    "    out_seq6 = dataframe[['z']].to_numpy()\n",
    "    \n",
    "    # convert to [rows, columns] structure   \n",
    "    in_seq4 = in_seq4.reshape((len(in_seq4), 1))\n",
    "    in_seq5 = in_seq5.reshape((len(in_seq5), 1))\n",
    "    in_seq6 = in_seq6.reshape((len(in_seq6), 1))\n",
    "    \n",
    "    out_seq4 = out_seq4.reshape((len(out_seq4), 1))\n",
    "    out_seq5 = out_seq5.reshape((len(out_seq5), 1))\n",
    "    out_seq6 = out_seq6.reshape((len(out_seq6), 1))\n",
    "\n",
    "    # horizontally stack columns\n",
    "    dataset_in = hstack((in_seq4, in_seq5, in_seq6))\n",
    "    dataset_out = hstack((out_seq4, out_seq5, out_seq6))\n",
    "    \n",
    "    dataset_in_q1 = dataset_in[:-LAT_in_rows]\n",
    "    dataset_in_q2 = dataset_in[1:]\n",
    "    delta_in = np.array([pos1 - pos2 for pos1, pos2 in zip(dataset_in_q1,dataset_in_q2)])\n",
    "\n",
    "    dataset_out_q1 = dataset_out[:]\n",
    "    dataset_out_q2 = dataset_out[LAT_in_rows:]\n",
    "    delta_out = np.array([pos1 - pos2 for pos1, pos2 in zip(dataset_out_q1,dataset_out_q2)])\n",
    "    \n",
    "  \n",
    "    \n",
    "    delta = hstack((delta_in, delta_out))\n",
    "\n",
    "    # convert into input/output\n",
    "    X, y = split_sequences(delta, n_steps, LAT_in_rows, n_in_seq_pos, n_out_seq_pos)\n",
    "\n",
    "    print(\"X shape is: \" + str(X.shape))\n",
    "    print(\"y shape is: \" + str(y.shape))\n",
    "    print(\"------\")\n",
    "    \n",
    "    return X,y"
   ]
  },
  {
   "cell_type": "markdown",
   "metadata": {
    "id": "d6e810ec"
   },
   "source": [
    "# Training "
   ]
  },
  {
   "cell_type": "code",
   "execution_count": 15,
   "metadata": {
    "id": "0d4b8dd4"
   },
   "outputs": [],
   "source": [
    "########################## \n",
    "# Quaternion Delta\n",
    "########################## \n",
    "\n",
    "def prepare_training_data_quat_delta(dataset_path_train):\n",
    " \n",
    "    X_train_result = [] \n",
    "    y_train_result = [] \n",
    "    \n",
    "    X_val_result = [] \n",
    "    y_val_result = [] \n",
    "\n",
    "    for csv in get_csv_files(dataset_path_train, \"1_special_train_contin\"):\n",
    "        csv_df = load_df(csv)\n",
    "        X_train, y_train = get_sequence_quat_delta(csv_df, dataset_path_train)\n",
    "        \n",
    "    for csv in get_csv_files(dataset_path_train, \"1_special_test_contin\"):\n",
    "        csv_df = load_df(csv)\n",
    "        X_val, y_val = get_sequence_quat_delta(csv_df, dataset_path_train)\n",
    "        \n",
    "    return X_train, X_val, y_train, y_val"
   ]
  },
  {
   "cell_type": "code",
   "execution_count": 16,
   "metadata": {
    "id": "df9b4f18"
   },
   "outputs": [],
   "source": [
    "########################## \n",
    "# Quaternion\n",
    "########################## \n",
    "\n",
    "def prepare_training_data_quat(dataset_path_train):\n",
    " \n",
    "    X_train_result = [] \n",
    "    y_train_result = [] \n",
    "    \n",
    "    X_val_result = [] \n",
    "    y_val_result = [] \n",
    "\n",
    "    for csv in get_csv_files(dataset_path_train, \"1_special_train_contin\"):\n",
    "        print(csv)\n",
    "        csv_df = load_df(csv)\n",
    "        X_train, y_train = get_sequence_quat_delta(csv_df, dataset_path_train)\n",
    "        \n",
    "    for csv in get_csv_files(dataset_path_train, \"1_special_test_contin\"):\n",
    "        print(csv)\n",
    "        csv_df = load_df(csv)\n",
    "        X_val, y_val = get_sequence_quat_delta(csv_df, dataset_path_train)\n",
    "        \n",
    "    return X_train, X_val, y_train, y_val"
   ]
  },
  {
   "cell_type": "code",
   "execution_count": 17,
   "metadata": {
    "id": "062d00e1"
   },
   "outputs": [],
   "source": [
    "########################## \n",
    "# Position Delta\n",
    "########################## \n",
    "\n",
    "def prepare_training_data_pos_delta(dataset_path_train):\n",
    " \n",
    "    X_train_result = [] \n",
    "    y_train_result = [] \n",
    "    \n",
    "    X_val_result = [] \n",
    "    y_val_result = [] \n",
    "\n",
    "    for csv in get_csv_files(dataset_path_train, \"1_special_train_original\"):\n",
    "        csv_df = load_df(csv)\n",
    "        #csv_df = pd.read_csv(csv, delimiter =\";\")\n",
    "        X_train, y_train = get_sequence_position_delta(csv_df, dataset_path_train)\n",
    "                \n",
    "    for csv in get_csv_files(dataset_path_train, \"1_special_test_original\"):\n",
    "        csv_df = load_df(csv)\n",
    "        X_val, y_val = get_sequence_position_delta(csv_df, dataset_path_train)\n",
    "        \n",
    "    return X_train, X_val, y_train, y_val"
   ]
  },
  {
   "cell_type": "code",
   "execution_count": 18,
   "metadata": {
    "id": "ed259ad5"
   },
   "outputs": [],
   "source": [
    "########################## \n",
    "# Position\n",
    "########################## \n",
    "\n",
    "def prepare_training_data_pos(dataset_path_train):\n",
    " \n",
    "    X_train_result = [] \n",
    "    y_train_result = [] \n",
    "    \n",
    "    X_val_result = [] \n",
    "    y_val_result = [] \n",
    "    \n",
    "    for csv in get_csv_files(dataset_path_train, \"1_special_train_original\"):\n",
    "        csv_df = load_df(csv)\n",
    "        #csv_df = pd.read_csv(csv, delimiter =\";\")\n",
    "        X_train, y_train = get_sequence_position(csv_df)\n",
    "                \n",
    "    for csv in get_csv_files(dataset_path_train, \"1_special_test_original\"):\n",
    "        csv_df = load_df(csv)\n",
    "        X_val, y_val = get_sequence_position(csv_df)\n",
    "        \n",
    "    return X_train, X_val, y_train, y_val"
   ]
  },
  {
   "cell_type": "code",
   "execution_count": 19,
   "metadata": {},
   "outputs": [],
   "source": [
    "########################## \n",
    "# Quaternion Delta + Gaze Delta\n",
    "########################## \n",
    "\n",
    "def prepare_training_data_quat_gaze_delta(dataset_path_train):\n",
    " \n",
    "    X_train_result = [] \n",
    "    y_train_result = [] \n",
    "    \n",
    "    X_val_result = [] \n",
    "    y_val_result = [] \n",
    "\n",
    "    for csv in get_csv_files(dataset_path_train, \"1_gaze_train_contin\"):\n",
    "        csv_df = load_df(csv)\n",
    "        X_train, y_train = get_sequence_delta_gaze(csv_df, dataset_path_train)\n",
    "        \n",
    "    for csv in get_csv_files(dataset_path_train, \"1_gaze_test_contin\"):\n",
    "        csv_df = load_df(csv)\n",
    "        X_val, y_val = get_sequence_delta_gaze(csv_df, dataset_path_train)\n",
    "        \n",
    "    return X_train, X_val, y_train, y_val"
   ]
  },
  {
   "cell_type": "markdown",
   "metadata": {
    "id": "169a0c41"
   },
   "source": [
    "# Testing"
   ]
  },
  {
   "cell_type": "code",
   "execution_count": 20,
   "metadata": {
    "id": "b80bc92e"
   },
   "outputs": [],
   "source": [
    "def prepare_testing_data_quat_special_delta(dataset_path_train):\n",
    " \n",
    "    X_train_result = [] \n",
    "    y_train_result = [] \n",
    "    \n",
    "    csv_df = load_df(dataset_path_train)\n",
    "    X, y = get_sequence_quat_delta(csv_df, dataset_path_train)        \n",
    "\n",
    "    return X, y"
   ]
  },
  {
   "cell_type": "code",
   "execution_count": 21,
   "metadata": {
    "id": "ba297d40"
   },
   "outputs": [],
   "source": [
    "def prepare_testing_data_quat_special(dataset_path_train):\n",
    " \n",
    "    X_train_result = [] \n",
    "    y_train_result = [] \n",
    "    \n",
    "    csv_df = load_df(dataset_path_train)\n",
    "    X, y = get_sequence_quat_delta(csv_df, dataset_path_train)        \n",
    "        \n",
    "    return X, y"
   ]
  },
  {
   "cell_type": "code",
   "execution_count": 22,
   "metadata": {
    "id": "32e3f442"
   },
   "outputs": [],
   "source": [
    "def prepare_testing_data_pos_special_delta(dataset_path_train):\n",
    " \n",
    "    X_train_result = [] \n",
    "    y_train_result = [] \n",
    "    \n",
    "    csv_df = load_df(dataset_path_train)\n",
    "    X, y = get_sequence_position_delta(csv_df, dataset_path_train)        \n",
    "        \n",
    "    return X, y"
   ]
  },
  {
   "cell_type": "code",
   "execution_count": 23,
   "metadata": {
    "id": "4393f9f4"
   },
   "outputs": [],
   "source": [
    "def prepare_testing_data_pos_special(dataset_path_train):\n",
    " \n",
    "    X_train_result = [] \n",
    "    y_train_result = [] \n",
    "    \n",
    "    csv_df = load_df(dataset_path_train)\n",
    "    X, y = get_sequence_position(csv_df)        \n",
    "        \n",
    "    return X, y"
   ]
  },
  {
   "cell_type": "code",
   "execution_count": null,
   "metadata": {},
   "outputs": [],
   "source": []
  },
  {
   "cell_type": "code",
   "execution_count": null,
   "metadata": {},
   "outputs": [],
   "source": []
  },
  {
   "cell_type": "code",
   "execution_count": null,
   "metadata": {},
   "outputs": [],
   "source": []
  }
 ],
 "metadata": {
  "colab": {
   "name": "V07_Prepare_dataset.ipynb",
   "provenance": []
  },
  "kernelspec": {
   "display_name": "Python 3",
   "language": "python",
   "name": "python3"
  },
  "language_info": {
   "codemirror_mode": {
    "name": "ipython",
    "version": 3
   },
   "file_extension": ".py",
   "mimetype": "text/x-python",
   "name": "python",
   "nbconvert_exporter": "python",
   "pygments_lexer": "ipython3",
   "version": "3.7.6"
  }
 },
 "nbformat": 4,
 "nbformat_minor": 5
}

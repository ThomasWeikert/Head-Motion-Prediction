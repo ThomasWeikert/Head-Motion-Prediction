{
 "cells": [
  {
   "cell_type": "code",
   "execution_count": 4,
   "id": "ad852e5d",
   "metadata": {},
   "outputs": [],
   "source": [
    "import json\n",
    "import os\n",
    "import re\n",
    "import pandas as pd\n",
    "import matplotlib as mpl\n",
    "import numpy as np\n",
    "import logging\n",
    "import glob\n",
    "import shutil\n",
    "from distutils.dir_util import copy_tree\n",
    "from matplotlib import pyplot as plt\n",
    "from matplotlib.ticker import MultipleLocator, FormatStrFormatter\n",
    "from scipy.signal import savgol_filter\n",
    "\n",
    "import glob\n",
    "import pickle\n",
    "import os\n",
    "import logging\n",
    "import numpy as np\n",
    "import pandas as pd\n",
    "from matplotlib import pyplot as plt\n",
    "from scipy.spatial.transform import Rotation as R\n",
    "from scipy.spatial.transform import Slerp\n",
    "pd.options.mode.chained_assignment = None\n",
    "\n",
    "from pickle import load\n",
    "\n",
    "import pandas as pd"
   ]
  },
  {
   "cell_type": "code",
   "execution_count": 2,
   "id": "ccab1717",
   "metadata": {},
   "outputs": [],
   "source": [
    "def get_csv_files(dataset_path, keyword):\n",
    "    \"\"\"\n",
    "    Generator function to recursively output the CSV files in a directory and its sub-directories.\n",
    "    Arguments:\n",
    "        dataset_path: Path to the directory containing the CSV files.\n",
    "    Outputs:\n",
    "        Paths of the found CSV files.\n",
    "    \"\"\"\n",
    "    files = []\n",
    " \n",
    "    for f in glob.glob(os.path.join(dataset_path,\"*{}*\".format(keyword))):\n",
    "        #print(f)\n",
    "        if not os.path.isdir(f):\n",
    "            file_name, extension = f.split('.')            \n",
    "            if extension == \"csv\":\n",
    "                files.append(f)\n",
    "            else:\n",
    "                logging.warn(\"Invalid file: {}. Ignoring...\".format(f))\n",
    "\n",
    "    return files"
   ]
  },
  {
   "cell_type": "code",
   "execution_count": 3,
   "id": "1fba23e6",
   "metadata": {},
   "outputs": [],
   "source": [
    "def add_eulers(dataset_df):\n",
    "    #df = pd.read_csv(dataset_path, index_col=None)\n",
    "    df = dataset_df\n",
    "    qs_pred = df[['qx', 'qy', 'qz', 'qw']]\n",
    "    \n",
    "    #print(qs_pred)\n",
    "    \n",
    "    rots_pred = R.from_quat(qs_pred) #needs xyzw input shape\n",
    "    e_preds = rots_pred.as_euler('ZXY', degrees=True)\n",
    "    \n",
    "    #new_df = np.hstack((pos_pred_arr, e_preds)) --> hier später noch position adden\n",
    "    e_df = pd.DataFrame(e_preds, columns=['pitch','roll', 'yaw'])\n",
    "    \n",
    "    result = pd.concat([df, e_df], axis=1, join=\"inner\")\n",
    "    \n",
    "    return result"
   ]
  },
  {
   "cell_type": "code",
   "execution_count": 4,
   "id": "5471f3e7",
   "metadata": {},
   "outputs": [],
   "source": [
    "def load_df(path): \n",
    "    df = pd.read_csv(path, index_col=None)\n",
    "\n",
    "    return df"
   ]
  },
  {
   "cell_type": "code",
   "execution_count": 3,
   "id": "0b679fbb",
   "metadata": {},
   "outputs": [],
   "source": [
    "def load_scaler_objects_rotation(path_scaler_objects):\n",
    "    \n",
    "    out_seq4_scaler = load(open(path_scaler_objects + 'in_seq4_scaler.pkl', 'rb'))\n",
    "    out_seq5_scaler = load(open(path_scaler_objects + 'in_seq5_scaler.pkl', 'rb'))\n",
    "    out_seq6_scaler = load(open(path_scaler_objects + 'in_seq6_scaler.pkl', 'rb'))\n",
    "    out_seq7_scaler = load(open(path_scaler_objects + 'in_seq7_scaler.pkl', 'rb'))\n",
    "    \n",
    "    return out_seq4_scaler, out_seq5_scaler, out_seq6_scaler, out_seq7_scaler"
   ]
  },
  {
   "cell_type": "code",
   "execution_count": 7,
   "id": "06adfb51",
   "metadata": {},
   "outputs": [],
   "source": [
    "def load_scaler_objects_euler(path_scaler_objects):\n",
    "    \n",
    "    out_seq4_scaler = load(open(path_scaler_objects + 'in_seq4_scaler.pkl', 'rb'))\n",
    "    out_seq5_scaler = load(open(path_scaler_objects + 'in_seq5_scaler.pkl', 'rb'))\n",
    "    out_seq6_scaler = load(open(path_scaler_objects + 'in_seq6_scaler.pkl', 'rb'))\n",
    "    \n",
    "    return out_seq4_scaler, out_seq5_scaler, out_seq6_scaler"
   ]
  },
  {
   "cell_type": "code",
   "execution_count": null,
   "id": "9df5e761",
   "metadata": {},
   "outputs": [],
   "source": []
  }
 ],
 "metadata": {
  "kernelspec": {
   "display_name": "Python 3",
   "language": "python",
   "name": "python3"
  },
  "language_info": {
   "codemirror_mode": {
    "name": "ipython",
    "version": 3
   },
   "file_extension": ".py",
   "mimetype": "text/x-python",
   "name": "python",
   "nbconvert_exporter": "python",
   "pygments_lexer": "ipython3",
   "version": "3.9.5"
  }
 },
 "nbformat": 4,
 "nbformat_minor": 5
}

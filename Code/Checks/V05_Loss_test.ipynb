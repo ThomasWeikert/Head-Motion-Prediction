{
 "cells": [
  {
   "cell_type": "code",
   "execution_count": 88,
   "id": "4ee0f6b1",
   "metadata": {},
   "outputs": [],
   "source": [
    "import os\n",
    "import numpy as np\n",
    "import glob\n",
    "import pandas as pd  \n",
    "import random\n",
    "import math as mp\n",
    "import pickle\n",
    "import matplotlib.pyplot as plt\n",
    "import tensorflow as tf\n",
    "import time\n",
    "\n",
    "from sklearn.preprocessing import StandardScaler\n",
    "from sklearn.model_selection import train_test_split\n",
    "from sklearn.metrics import accuracy_score\n",
    "from sklearn.metrics import confusion_matrix\n",
    "\n",
    "%matplotlib inline\n",
    "import matplotlib.pyplot as plt\n",
    "\n",
    "from tensorflow import keras\n",
    "import tensorflow.keras.backend as K\n",
    "\n",
    "\n",
    "from tensorflow.keras.models import Sequential\n",
    "from tensorflow.keras.layers import Dense,Flatten,Dropout\n",
    "from tensorflow.keras.layers import Conv1D,MaxPooling1D\n",
    "from tensorflow.keras.utils import to_categorical\n",
    "\n",
    "from tensorflow.keras.preprocessing import sequence\n",
    "from tensorflow.keras.optimizers import Adam\n",
    "from tensorflow.keras.callbacks import ModelCheckpoint\n",
    "\n",
    "from tensorflow.keras.models import load_model\n",
    "from tensorflow.keras.layers import LSTM\n",
    "from tensorflow.keras.layers import BatchNormalization\n",
    "from tensorflow.keras.layers import GlobalMaxPooling1D\n",
    "\n",
    "from sklearn import metrics\n",
    "from sklearn import preprocessing\n",
    "from sklearn.model_selection import TimeSeriesSplit\n",
    "from sklearn.preprocessing import MinMaxScaler\n",
    "from pyquaternion import Quaternion\n",
    "\n",
    "from numpy import array\n",
    "from numpy import hstack\n",
    "\n",
    "from math import floor"
   ]
  },
  {
   "cell_type": "code",
   "execution_count": 89,
   "id": "e76681a7",
   "metadata": {},
   "outputs": [],
   "source": [
    "def get_csv_files(dataset_path, keyword):\n",
    "    \"\"\"\n",
    "    Generator function to recursively output the CSV files in a directory and its sub-directories.\n",
    "    Arguments:\n",
    "        dataset_path: Path to the directory containing the CSV files.\n",
    "    Outputs:\n",
    "        Paths of the found CSV files.\n",
    "    \"\"\"\n",
    "    files = []\n",
    " \n",
    "    for f in glob.glob(os.path.join(dataset_path,\"*{}*\".format(keyword))):\n",
    "        #print(f)\n",
    "        if not os.path.isdir(f):\n",
    "            file_name, extension = f.split('.')            \n",
    "            if extension == \"csv\":\n",
    "                files.append(f)\n",
    "            else:\n",
    "                logging.warn(\"Invalid file: {}. Ignoring...\".format(f))\n",
    "\n",
    "    return files"
   ]
  },
  {
   "cell_type": "code",
   "execution_count": 90,
   "id": "f5d81e91",
   "metadata": {},
   "outputs": [],
   "source": [
    "def load_df(path): \n",
    "    df = pd.read_csv(path, index_col=None)\n",
    "\n",
    "    return df"
   ]
  },
  {
   "cell_type": "code",
   "execution_count": 91,
   "id": "5a5470bf",
   "metadata": {},
   "outputs": [],
   "source": [
    "def split_sequences(sequences, n_steps, LAT, n_in_seq, n_out_seq):\n",
    "    X, y = list(), list()\n",
    "    \n",
    "    for i in range(len(sequences)):\n",
    "        # find the end of this pattern\n",
    "        stop_ix = i + n_steps\n",
    "        shift_ix = i + n_steps + LAT\n",
    "        seq_length = len(sequences) - LAT\n",
    "        if stop_ix > seq_length:\n",
    "          break\n",
    "        seq_x = sequences[i:stop_ix,:-n_in_seq]\n",
    "        seq_y = sequences[shift_ix-1, -n_out_seq:]\n",
    "        X.append(seq_x)\n",
    "        y.append(seq_y)\n",
    "    \n",
    "    return array(X), array(y)\n",
    "    #return X, y"
   ]
  },
  {
   "cell_type": "code",
   "execution_count": 92,
   "id": "f18c9aef",
   "metadata": {},
   "outputs": [],
   "source": [
    "def get_sequence_rotsonly(dataframe):\n",
    "    # multivariate data preparation\n",
    "\n",
    "    # define sequences\n",
    "    \n",
    "    \n",
    "    in_seq4 = dataframe[['qw']].to_numpy()\n",
    "    in_seq5 = dataframe[['qx']].to_numpy()\n",
    "    in_seq6 = dataframe[['qy']].to_numpy()\n",
    "    in_seq7 = dataframe[['qz']].to_numpy()\n",
    "    \n",
    "    out_seq4 = dataframe[['qw']].to_numpy()\n",
    "    out_seq5 = dataframe[['qx']].to_numpy()\n",
    "    out_seq6 = dataframe[['qy']].to_numpy()\n",
    "    out_seq7 = dataframe[['qz']].to_numpy()\n",
    "\n",
    "    # convert to [rows, columns] structure\n",
    "    in_seq4 = in_seq4.reshape((len(in_seq4), 1))\n",
    "    in_seq5 = in_seq5.reshape((len(in_seq5), 1))\n",
    "    in_seq6 = in_seq6.reshape((len(in_seq6), 1))\n",
    "    in_seq7 = in_seq7.reshape((len(in_seq7), 1))\n",
    " \n",
    "    out_seq4 = out_seq4.reshape((len(out_seq4), 1))\n",
    "    out_seq5 = out_seq5.reshape((len(out_seq5), 1))\n",
    "    out_seq6 = out_seq6.reshape((len(out_seq6), 1))\n",
    "    out_seq7 = out_seq7.reshape((len(out_seq7), 1))\n",
    "\n",
    "    # horizontally stack columns\n",
    "    dataset = hstack((in_seq4, in_seq5, in_seq6, in_seq7, out_seq4, out_seq5, out_seq6, out_seq7))\n",
    "    \n",
    "    # define number of input and output sequences\n",
    "    n_in_seq = 4\n",
    "    n_out_seq = 4\n",
    "        \n",
    "    # choose a number of time steps\n",
    "    n_steps = 5 \n",
    "    \n",
    "    LAT_in_rows = 6 \n",
    "\n",
    "    # convert into input/output\n",
    "    X, y = split_sequences(dataset, n_steps, LAT_in_rows, n_in_seq, n_out_seq)\n",
    "\n",
    "    print(\"X shape is: \" + str(X.shape))\n",
    "    print(\"y shape is: \" + str(y.shape))\n",
    "    print(\"------\")\n",
    "    \n",
    "    return X,y"
   ]
  },
  {
   "cell_type": "code",
   "execution_count": 103,
   "id": "eca77790",
   "metadata": {},
   "outputs": [],
   "source": [
    "path_train = \"C:/Users/weikert1/Documents/Thesis/Project_V06_26072021/Results/01_Dataset/GRU_quat/6_0208_v01/traces\"\n",
    "\n",
    "for csv in get_csv_files(path_train, \"3_test\"):\n",
    "        csv_df = load_df(csv)\n",
    "        in_seq1 = csv_df[['qw_pred']].to_numpy()\n",
    "        in_seq2 = csv_df[['qx_pred']].to_numpy()\n",
    "        in_seq3 = csv_df[['qy_pred']].to_numpy()\n",
    "        in_seq4 = csv_df[['qz_pred']].to_numpy()\n",
    "\n",
    "#for csv in get_csv_files(path_train, \"y_true\"):\n",
    "        csv_df = load_df(csv)\n",
    "        in_seq5 = csv_df[['qw_true']].to_numpy()\n",
    "        in_seq6 = csv_df[['qx_true']].to_numpy()\n",
    "        in_seq7 = csv_df[['qy_true']].to_numpy()\n",
    "        in_seq8 = csv_df[['qz_true']].to_numpy()\n",
    "\n",
    "        \n",
    "        dataset_pred = hstack((in_seq1, in_seq2, in_seq3, in_seq4))\n",
    "        dataset_true = hstack((in_seq5, in_seq6, in_seq7, in_seq8))\n",
    "        \n",
    "        dataset_pred = array(dataset_pred)\n",
    "        dataset_true = array(dataset_true)"
   ]
  },
  {
   "cell_type": "code",
   "execution_count": 111,
   "id": "fb62cd51",
   "metadata": {},
   "outputs": [],
   "source": [
    "def compute_quat_metrics(true_rot, preds_rot):\n",
    "        \n",
    "        # Compute Eucliden and angular distances\n",
    "        ang_dists = np.array([Quaternion.distance(q1, q2) for q1, q2 in zip(true_rot,\n",
    "                                                                             preds_rot)]) #(w, x, y, z)\n",
    "        # Mean Absolute Error (MAE)\n",
    "        mae_ang = (np.sum(ang_dists) / ang_dists.shape[0])\n",
    "        \n",
    "        # Root Mean Squared Error (RMSE)\n",
    "        rmse_ang = (np.sqrt((ang_dists ** 2).mean()))\n",
    "\n",
    "        return ang_dists, mae_ang, rmse_ang"
   ]
  },
  {
   "cell_type": "code",
   "execution_count": 112,
   "id": "a714ed52",
   "metadata": {},
   "outputs": [],
   "source": [
    "def eval_quat(true_rot, preds_rot):\n",
    "        \n",
    "\n",
    "        true_rot = np.array([Quaternion(q) for q in true_rot]) #(w, x, y, z)\n",
    "         \n",
    "        preds_rot = np.array([Quaternion(q) for q in preds_rot]) #(w, x, y, z)\n",
    "                \n",
    "        return compute_quat_metrics(true_rot, preds_rot)"
   ]
  },
  {
   "cell_type": "code",
   "execution_count": 114,
   "id": "7c8e1e0f",
   "metadata": {},
   "outputs": [
    {
     "name": "stdout",
     "output_type": "stream",
     "text": [
      "Number of angular dists: 6739\n",
      "MAE rotation is : 0.040584961573602606\n",
      "----\n"
     ]
    }
   ],
   "source": [
    "ang_dists , ang_mae , ang_rmse = eval_quat(dataset_true, dataset_pred)\n",
    "print('Number of angular dists: ' + str(ang_dists.shape[0]))\n",
    "print('MAE rotation is : ' + str(ang_mae))\n",
    "#print('RMSE rotation is : ' + str(ang_rmse))\n",
    "print(\"----\")"
   ]
  },
  {
   "cell_type": "code",
   "execution_count": 115,
   "id": "ca700d4d",
   "metadata": {},
   "outputs": [
    {
     "data": {
      "image/png": "[encoded data removed]",
      "text/plain": [
       "<Figure size 432x288 with 1 Axes>"
      ]
     },
     "metadata": {
      "needs_background": "light"
     },
     "output_type": "display_data"
    }
   ],
   "source": [
    "# plotting\n",
    "plt.title(\"Line graph\")\n",
    "plt.xlabel(\"X axis\")\n",
    "plt.plot(ang_dists, color =\"red\")\n",
    "plt.show()"
   ]
  },
  {
   "cell_type": "code",
   "execution_count": 116,
   "id": "d93aed17",
   "metadata": {},
   "outputs": [],
   "source": [
    "path_train = \"C:/Users/weikert1/Documents/Thesis/Project_V06_26072021/Results/01_Dataset/Baseline_quat/Traces\"\n",
    "\n",
    "for csv in get_csv_files(path_train, \"3_test\"):\n",
    "        csv_df = load_df(csv)\n",
    "        in_seq1 = csv_df[['qw_pred']].to_numpy()\n",
    "        in_seq2 = csv_df[['qx_pred']].to_numpy()\n",
    "        in_seq3 = csv_df[['qy_pred']].to_numpy()\n",
    "        in_seq4 = csv_df[['qz_pred']].to_numpy()\n",
    "\n",
    "#for csv in get_csv_files(path_train, \"y_true\"):\n",
    "        csv_df = load_df(csv)\n",
    "        in_seq5 = csv_df[['qw_true']].to_numpy()\n",
    "        in_seq6 = csv_df[['qx_true']].to_numpy()\n",
    "        in_seq7 = csv_df[['qy_true']].to_numpy()\n",
    "        in_seq8 = csv_df[['qz_true']].to_numpy()\n",
    "\n",
    "        \n",
    "        dataset_pred = hstack((in_seq1, in_seq2, in_seq3, in_seq4))\n",
    "        dataset_true = hstack((in_seq5, in_seq6, in_seq7, in_seq8))\n",
    "        \n",
    "        dataset_pred = array(dataset_pred)\n",
    "        dataset_true = array(dataset_true)"
   ]
  },
  {
   "cell_type": "code",
   "execution_count": 117,
   "id": "ceec06d6",
   "metadata": {},
   "outputs": [
    {
     "name": "stdout",
     "output_type": "stream",
     "text": [
      "Number of angular dists: 6729\n",
      "MAE rotation is : 0.021303834429640643\n",
      "----\n"
     ]
    },
    {
     "data": {
      "image/png": "[encoded data removed]",
      "text/plain": [
       "<Figure size 432x288 with 1 Axes>"
      ]
     },
     "metadata": {
      "needs_background": "light"
     },
     "output_type": "display_data"
    }
   ],
   "source": [
    "ang_dists , ang_mae , ang_rmse = eval_quat(dataset_true, dataset_pred)\n",
    "print('Number of angular dists: ' + str(ang_dists.shape[0]))\n",
    "print('MAE rotation is : ' + str(ang_mae))\n",
    "#print('RMSE rotation is : ' + str(ang_rmse))\n",
    "print(\"----\")\n",
    "\n",
    "# plotting\n",
    "plt.title(\"Line graph\")\n",
    "plt.xlabel(\"X axis\")\n",
    "plt.plot(ang_dists, color =\"red\")\n",
    "plt.show()"
   ]
  },
  {
   "cell_type": "code",
   "execution_count": null,
   "id": "b576317b",
   "metadata": {},
   "outputs": [],
   "source": []
  },
  {
   "cell_type": "code",
   "execution_count": null,
   "id": "6d8caba6",
   "metadata": {},
   "outputs": [],
   "source": []
  },
  {
   "cell_type": "code",
   "execution_count": null,
   "id": "a420ecbd",
   "metadata": {},
   "outputs": [],
   "source": []
  },
  {
   "cell_type": "code",
   "execution_count": 77,
   "id": "185b9f9f",
   "metadata": {},
   "outputs": [],
   "source": [
    "tensor_dataset_true = tf.convert_to_tensor(dataset_true, dtype= tf.float32, dtype_hint=None, name=None)\n",
    "tensor_dataset_pred = tf.convert_to_tensor(dataset_pred, dtype= tf.float32 , dtype_hint=None, name=None)"
   ]
  },
  {
   "cell_type": "code",
   "execution_count": 78,
   "id": "ccbd4749",
   "metadata": {},
   "outputs": [],
   "source": [
    "def conjugate(q):\n",
    "    mult = tf.constant(np.array([1,-1,-1,-1])[np.newaxis], dtype=np.float32)\n",
    "    return q*mult\n",
    "\n",
    "def inverse(q):\n",
    "    return conjugate(q) / tf.reduce_sum(q*q, axis=-1, keepdims=True)\n",
    "\n",
    "def log(q):\n",
    "    v = q[:, 1:]\n",
    "    a = q[:, :1]\n",
    "    q_norm = tf.norm(q, axis=-1, keepdims=True)\n",
    "    x = a / q_norm\n",
    "    eps = np.finfo(np.float32).eps * 8.0\n",
    "    x *= (1.0 - eps)\n",
    "    vec_part = tf.nn.l2_normalize(v, axis=-1) * tf.math.acos(x)\n",
    "    real_part = tf.math.log(q_norm)\n",
    "    return tf.concat([real_part, vec_part], axis=-1)\n",
    "\n",
    "def mult(quaternion1, quaternion2):\n",
    "    w1, x1, y1, z1 = tf.unstack(quaternion1, axis=-1)\n",
    "    w2, x2, y2, z2 = tf.unstack(quaternion2, axis=-1)\n",
    "    x = x1 * w2 + y1 * z2 - z1 * y2 + w1 * x2\n",
    "    y = -x1 * z2 + y1 * w2 + z1 * x2 + w1 * y2\n",
    "    z = x1 * y2 - y1 * x2 + z1 * w2 + w1 * z2\n",
    "    w = -x1 * x2 - y1 * y2 - z1 * z2 + w1 * w2\n",
    "    return tf.stack((w, x, y, z), axis=-1)\n",
    "\n",
    "def geodesic_dist(q1, q2):\n",
    "    x = mult(inverse(q1), q2)\n",
    "    x = tf.norm(log(x), axis=-1)\n",
    "    return x\n",
    "\n",
    "\n",
    "def ang_mae(y_true,y_pred):\n",
    "    ang_dist = geodesic_dist(y_true, y_pred) #returns a value between 0 and pi\n",
    "    shape = tf.cast(tf.size(ang_dist),dtype=np.float32)\n",
    "    ang_mae =  K.sum(ang_dist)/shape\n",
    "    return ang_mae\n"
   ]
  },
  {
   "cell_type": "code",
   "execution_count": 79,
   "id": "3bd06d71",
   "metadata": {},
   "outputs": [
    {
     "data": {
      "text/plain": [
       "<tf.Tensor: shape=(), dtype=float32, numpy=0.040611673>"
      ]
     },
     "execution_count": 79,
     "metadata": {},
     "output_type": "execute_result"
    }
   ],
   "source": [
    "ang_mae(tensor_dataset_true, tensor_dataset_pred)"
   ]
  },
  {
   "cell_type": "code",
   "execution_count": 80,
   "id": "160f69d0",
   "metadata": {},
   "outputs": [
    {
     "data": {
      "image/png": "[encoded data removed]",
      "text/plain": [
       "<Figure size 432x288 with 1 Axes>"
      ]
     },
     "metadata": {
      "needs_background": "light"
     },
     "output_type": "display_data"
    }
   ],
   "source": [
    "geodesic_dist_np = geodesic_dist(tensor_dataset_true, tensor_dataset_pred).numpy()\n",
    "# plotting\n",
    "plt.title(\"Line graph\")\n",
    "plt.xlabel(\"X axis\")\n",
    "plt.plot(geodesic_dist_np, color =\"red\")\n",
    "plt.show()"
   ]
  },
  {
   "cell_type": "code",
   "execution_count": 61,
   "id": "d4118a5e",
   "metadata": {},
   "outputs": [
    {
     "data": {
      "text/plain": [
       "0.26937224553052824"
      ]
     },
     "execution_count": 61,
     "metadata": {},
     "output_type": "execute_result"
    }
   ],
   "source": [
    "geodesic_dist_np = geodesic_dist(tensor_dataset_true, tensor_dataset_pred).numpy()\n",
    "mae_ang = np.sum(ang_dists) / ang_dists.shape[0]\n",
    "mae_ang\n"
   ]
  },
  {
   "cell_type": "code",
   "execution_count": 40,
   "id": "e4a2eb67",
   "metadata": {},
   "outputs": [
    {
     "ename": "InvalidArgumentError",
     "evalue": "cannot compute Mul as input #1(zero-based) was expected to be a double tensor but is a float tensor [Op:Mul]",
     "output_type": "error",
     "traceback": [
      "\u001b[1;31m---------------------------------------------------------------------------\u001b[0m",
      "\u001b[1;31mInvalidArgumentError\u001b[0m                      Traceback (most recent call last)",
      "\u001b[1;32m<ipython-input-40-b65d284a7ca6>\u001b[0m in \u001b[0;36m<module>\u001b[1;34m\u001b[0m\n\u001b[1;32m----> 1\u001b[1;33m \u001b[0mang_mae\u001b[0m\u001b[1;33m(\u001b[0m\u001b[0mtensor_dataset_true\u001b[0m\u001b[1;33m,\u001b[0m \u001b[0mtensor_dataset_pred\u001b[0m\u001b[1;33m)\u001b[0m\u001b[1;33m\u001b[0m\u001b[1;33m\u001b[0m\u001b[0m\n\u001b[0m",
      "\u001b[1;32m<ipython-input-38-e89354030bf5>\u001b[0m in \u001b[0;36mang_mae\u001b[1;34m(y_true, y_pred)\u001b[0m\n\u001b[0;32m     33\u001b[0m \u001b[1;33m\u001b[0m\u001b[0m\n\u001b[0;32m     34\u001b[0m \u001b[1;32mdef\u001b[0m \u001b[0mang_mae\u001b[0m\u001b[1;33m(\u001b[0m\u001b[0my_true\u001b[0m\u001b[1;33m,\u001b[0m\u001b[0my_pred\u001b[0m\u001b[1;33m)\u001b[0m\u001b[1;33m:\u001b[0m\u001b[1;33m\u001b[0m\u001b[1;33m\u001b[0m\u001b[0m\n\u001b[1;32m---> 35\u001b[1;33m     \u001b[0mang_dist\u001b[0m \u001b[1;33m=\u001b[0m \u001b[0mgeodesic_dist\u001b[0m\u001b[1;33m(\u001b[0m\u001b[0my_true\u001b[0m\u001b[1;33m,\u001b[0m \u001b[0my_pred\u001b[0m\u001b[1;33m)\u001b[0m \u001b[1;31m#returns a value between 0 and pi\u001b[0m\u001b[1;33m\u001b[0m\u001b[1;33m\u001b[0m\u001b[0m\n\u001b[0m\u001b[0;32m     36\u001b[0m     \u001b[0mshape\u001b[0m \u001b[1;33m=\u001b[0m \u001b[0mtf\u001b[0m\u001b[1;33m.\u001b[0m\u001b[0mcast\u001b[0m\u001b[1;33m(\u001b[0m\u001b[0mtf\u001b[0m\u001b[1;33m.\u001b[0m\u001b[0msize\u001b[0m\u001b[1;33m(\u001b[0m\u001b[0mang_dist\u001b[0m\u001b[1;33m)\u001b[0m\u001b[1;33m,\u001b[0m\u001b[0mdtype\u001b[0m\u001b[1;33m=\u001b[0m\u001b[0mnp\u001b[0m\u001b[1;33m.\u001b[0m\u001b[0mfloat32\u001b[0m\u001b[1;33m)\u001b[0m\u001b[1;33m\u001b[0m\u001b[1;33m\u001b[0m\u001b[0m\n\u001b[0;32m     37\u001b[0m     \u001b[0mang_mae\u001b[0m \u001b[1;33m=\u001b[0m  \u001b[0mK\u001b[0m\u001b[1;33m.\u001b[0m\u001b[0msum\u001b[0m\u001b[1;33m(\u001b[0m\u001b[0mang_dist\u001b[0m\u001b[1;33m)\u001b[0m\u001b[1;33m/\u001b[0m\u001b[0mshape\u001b[0m\u001b[1;33m\u001b[0m\u001b[1;33m\u001b[0m\u001b[0m\n",
      "\u001b[1;32m<ipython-input-38-e89354030bf5>\u001b[0m in \u001b[0;36mgeodesic_dist\u001b[1;34m(q1, q2)\u001b[0m\n\u001b[0;32m     27\u001b[0m \u001b[1;33m\u001b[0m\u001b[0m\n\u001b[0;32m     28\u001b[0m \u001b[1;32mdef\u001b[0m \u001b[0mgeodesic_dist\u001b[0m\u001b[1;33m(\u001b[0m\u001b[0mq1\u001b[0m\u001b[1;33m,\u001b[0m \u001b[0mq2\u001b[0m\u001b[1;33m)\u001b[0m\u001b[1;33m:\u001b[0m\u001b[1;33m\u001b[0m\u001b[1;33m\u001b[0m\u001b[0m\n\u001b[1;32m---> 29\u001b[1;33m     \u001b[0mx\u001b[0m \u001b[1;33m=\u001b[0m \u001b[0mmult\u001b[0m\u001b[1;33m(\u001b[0m\u001b[0minverse\u001b[0m\u001b[1;33m(\u001b[0m\u001b[0mq1\u001b[0m\u001b[1;33m)\u001b[0m\u001b[1;33m,\u001b[0m \u001b[0mq2\u001b[0m\u001b[1;33m)\u001b[0m\u001b[1;33m\u001b[0m\u001b[1;33m\u001b[0m\u001b[0m\n\u001b[0m\u001b[0;32m     30\u001b[0m     \u001b[0mx\u001b[0m \u001b[1;33m=\u001b[0m \u001b[0mtf\u001b[0m\u001b[1;33m.\u001b[0m\u001b[0mnorm\u001b[0m\u001b[1;33m(\u001b[0m\u001b[0mlog\u001b[0m\u001b[1;33m(\u001b[0m\u001b[0mx\u001b[0m\u001b[1;33m)\u001b[0m\u001b[1;33m,\u001b[0m \u001b[0maxis\u001b[0m\u001b[1;33m=\u001b[0m\u001b[1;33m-\u001b[0m\u001b[1;36m1\u001b[0m\u001b[1;33m)\u001b[0m\u001b[1;33m\u001b[0m\u001b[1;33m\u001b[0m\u001b[0m\n\u001b[0;32m     31\u001b[0m     \u001b[1;32mreturn\u001b[0m \u001b[0mx\u001b[0m\u001b[1;33m\u001b[0m\u001b[1;33m\u001b[0m\u001b[0m\n",
      "\u001b[1;32m<ipython-input-38-e89354030bf5>\u001b[0m in \u001b[0;36minverse\u001b[1;34m(q)\u001b[0m\n\u001b[0;32m      4\u001b[0m \u001b[1;33m\u001b[0m\u001b[0m\n\u001b[0;32m      5\u001b[0m \u001b[1;32mdef\u001b[0m \u001b[0minverse\u001b[0m\u001b[1;33m(\u001b[0m\u001b[0mq\u001b[0m\u001b[1;33m)\u001b[0m\u001b[1;33m:\u001b[0m\u001b[1;33m\u001b[0m\u001b[1;33m\u001b[0m\u001b[0m\n\u001b[1;32m----> 6\u001b[1;33m     \u001b[1;32mreturn\u001b[0m \u001b[0mconjugate\u001b[0m\u001b[1;33m(\u001b[0m\u001b[0mq\u001b[0m\u001b[1;33m)\u001b[0m \u001b[1;33m/\u001b[0m \u001b[0mtf\u001b[0m\u001b[1;33m.\u001b[0m\u001b[0mreduce_sum\u001b[0m\u001b[1;33m(\u001b[0m\u001b[0mq\u001b[0m\u001b[1;33m*\u001b[0m\u001b[0mq\u001b[0m\u001b[1;33m,\u001b[0m \u001b[0maxis\u001b[0m\u001b[1;33m=\u001b[0m\u001b[1;33m-\u001b[0m\u001b[1;36m1\u001b[0m\u001b[1;33m,\u001b[0m \u001b[0mkeepdims\u001b[0m\u001b[1;33m=\u001b[0m\u001b[1;32mTrue\u001b[0m\u001b[1;33m)\u001b[0m\u001b[1;33m\u001b[0m\u001b[1;33m\u001b[0m\u001b[0m\n\u001b[0m\u001b[0;32m      7\u001b[0m \u001b[1;33m\u001b[0m\u001b[0m\n\u001b[0;32m      8\u001b[0m \u001b[1;32mdef\u001b[0m \u001b[0mlog\u001b[0m\u001b[1;33m(\u001b[0m\u001b[0mq\u001b[0m\u001b[1;33m)\u001b[0m\u001b[1;33m:\u001b[0m\u001b[1;33m\u001b[0m\u001b[1;33m\u001b[0m\u001b[0m\n",
      "\u001b[1;32m<ipython-input-38-e89354030bf5>\u001b[0m in \u001b[0;36mconjugate\u001b[1;34m(q)\u001b[0m\n\u001b[0;32m      1\u001b[0m \u001b[1;32mdef\u001b[0m \u001b[0mconjugate\u001b[0m\u001b[1;33m(\u001b[0m\u001b[0mq\u001b[0m\u001b[1;33m)\u001b[0m\u001b[1;33m:\u001b[0m\u001b[1;33m\u001b[0m\u001b[1;33m\u001b[0m\u001b[0m\n\u001b[0;32m      2\u001b[0m     \u001b[0mmult\u001b[0m \u001b[1;33m=\u001b[0m \u001b[0mtf\u001b[0m\u001b[1;33m.\u001b[0m\u001b[0mconstant\u001b[0m\u001b[1;33m(\u001b[0m\u001b[0mnp\u001b[0m\u001b[1;33m.\u001b[0m\u001b[0marray\u001b[0m\u001b[1;33m(\u001b[0m\u001b[1;33m[\u001b[0m\u001b[1;36m1\u001b[0m\u001b[1;33m,\u001b[0m\u001b[1;33m-\u001b[0m\u001b[1;36m1\u001b[0m\u001b[1;33m,\u001b[0m\u001b[1;33m-\u001b[0m\u001b[1;36m1\u001b[0m\u001b[1;33m,\u001b[0m\u001b[1;33m-\u001b[0m\u001b[1;36m1\u001b[0m\u001b[1;33m]\u001b[0m\u001b[1;33m)\u001b[0m\u001b[1;33m[\u001b[0m\u001b[0mnp\u001b[0m\u001b[1;33m.\u001b[0m\u001b[0mnewaxis\u001b[0m\u001b[1;33m]\u001b[0m\u001b[1;33m,\u001b[0m \u001b[0mdtype\u001b[0m\u001b[1;33m=\u001b[0m\u001b[0mnp\u001b[0m\u001b[1;33m.\u001b[0m\u001b[0mfloat32\u001b[0m\u001b[1;33m)\u001b[0m\u001b[1;33m\u001b[0m\u001b[1;33m\u001b[0m\u001b[0m\n\u001b[1;32m----> 3\u001b[1;33m     \u001b[1;32mreturn\u001b[0m \u001b[0mq\u001b[0m\u001b[1;33m*\u001b[0m\u001b[0mmult\u001b[0m\u001b[1;33m\u001b[0m\u001b[1;33m\u001b[0m\u001b[0m\n\u001b[0m\u001b[0;32m      4\u001b[0m \u001b[1;33m\u001b[0m\u001b[0m\n\u001b[0;32m      5\u001b[0m \u001b[1;32mdef\u001b[0m \u001b[0minverse\u001b[0m\u001b[1;33m(\u001b[0m\u001b[0mq\u001b[0m\u001b[1;33m)\u001b[0m\u001b[1;33m:\u001b[0m\u001b[1;33m\u001b[0m\u001b[1;33m\u001b[0m\u001b[0m\n",
      "\u001b[1;32m~\\anaconda3\\envs\\thesis_gpu\\lib\\site-packages\\tensorflow\\python\\ops\\math_ops.py\u001b[0m in \u001b[0;36mbinary_op_wrapper\u001b[1;34m(x, y)\u001b[0m\n\u001b[0;32m   1232\u001b[0m         \u001b[1;31m#   r_binary_op_wrapper use different force_same_dtype values.\u001b[0m\u001b[1;33m\u001b[0m\u001b[1;33m\u001b[0m\u001b[1;33m\u001b[0m\u001b[0m\n\u001b[0;32m   1233\u001b[0m         \u001b[0mx\u001b[0m\u001b[1;33m,\u001b[0m \u001b[0my\u001b[0m \u001b[1;33m=\u001b[0m \u001b[0mmaybe_promote_tensors\u001b[0m\u001b[1;33m(\u001b[0m\u001b[0mx\u001b[0m\u001b[1;33m,\u001b[0m \u001b[0my\u001b[0m\u001b[1;33m,\u001b[0m \u001b[0mforce_same_dtype\u001b[0m\u001b[1;33m=\u001b[0m\u001b[1;32mFalse\u001b[0m\u001b[1;33m)\u001b[0m\u001b[1;33m\u001b[0m\u001b[1;33m\u001b[0m\u001b[0m\n\u001b[1;32m-> 1234\u001b[1;33m         \u001b[1;32mreturn\u001b[0m \u001b[0mfunc\u001b[0m\u001b[1;33m(\u001b[0m\u001b[0mx\u001b[0m\u001b[1;33m,\u001b[0m \u001b[0my\u001b[0m\u001b[1;33m,\u001b[0m \u001b[0mname\u001b[0m\u001b[1;33m=\u001b[0m\u001b[0mname\u001b[0m\u001b[1;33m)\u001b[0m\u001b[1;33m\u001b[0m\u001b[1;33m\u001b[0m\u001b[0m\n\u001b[0m\u001b[0;32m   1235\u001b[0m       \u001b[1;32mexcept\u001b[0m \u001b[1;33m(\u001b[0m\u001b[0mTypeError\u001b[0m\u001b[1;33m,\u001b[0m \u001b[0mValueError\u001b[0m\u001b[1;33m)\u001b[0m \u001b[1;32mas\u001b[0m \u001b[0me\u001b[0m\u001b[1;33m:\u001b[0m\u001b[1;33m\u001b[0m\u001b[1;33m\u001b[0m\u001b[0m\n\u001b[0;32m   1236\u001b[0m         \u001b[1;31m# Even if dispatching the op failed, the RHS may be a tensor aware\u001b[0m\u001b[1;33m\u001b[0m\u001b[1;33m\u001b[0m\u001b[1;33m\u001b[0m\u001b[0m\n",
      "\u001b[1;32m~\\anaconda3\\envs\\thesis_gpu\\lib\\site-packages\\tensorflow\\python\\ops\\math_ops.py\u001b[0m in \u001b[0;36m_mul_dispatch\u001b[1;34m(x, y, name)\u001b[0m\n\u001b[0;32m   1573\u001b[0m     \u001b[1;32mreturn\u001b[0m \u001b[0msparse_tensor\u001b[0m\u001b[1;33m.\u001b[0m\u001b[0mSparseTensor\u001b[0m\u001b[1;33m(\u001b[0m\u001b[0my\u001b[0m\u001b[1;33m.\u001b[0m\u001b[0mindices\u001b[0m\u001b[1;33m,\u001b[0m \u001b[0mnew_vals\u001b[0m\u001b[1;33m,\u001b[0m \u001b[0my\u001b[0m\u001b[1;33m.\u001b[0m\u001b[0mdense_shape\u001b[0m\u001b[1;33m)\u001b[0m\u001b[1;33m\u001b[0m\u001b[1;33m\u001b[0m\u001b[0m\n\u001b[0;32m   1574\u001b[0m   \u001b[1;32melse\u001b[0m\u001b[1;33m:\u001b[0m\u001b[1;33m\u001b[0m\u001b[1;33m\u001b[0m\u001b[0m\n\u001b[1;32m-> 1575\u001b[1;33m     \u001b[1;32mreturn\u001b[0m \u001b[0mmultiply\u001b[0m\u001b[1;33m(\u001b[0m\u001b[0mx\u001b[0m\u001b[1;33m,\u001b[0m \u001b[0my\u001b[0m\u001b[1;33m,\u001b[0m \u001b[0mname\u001b[0m\u001b[1;33m=\u001b[0m\u001b[0mname\u001b[0m\u001b[1;33m)\u001b[0m\u001b[1;33m\u001b[0m\u001b[1;33m\u001b[0m\u001b[0m\n\u001b[0m\u001b[0;32m   1576\u001b[0m \u001b[1;33m\u001b[0m\u001b[0m\n\u001b[0;32m   1577\u001b[0m \u001b[1;33m\u001b[0m\u001b[0m\n",
      "\u001b[1;32m~\\anaconda3\\envs\\thesis_gpu\\lib\\site-packages\\tensorflow\\python\\util\\dispatch.py\u001b[0m in \u001b[0;36mwrapper\u001b[1;34m(*args, **kwargs)\u001b[0m\n\u001b[0;32m    204\u001b[0m     \u001b[1;34m\"\"\"Call target, and fall back on dispatchers if there is a TypeError.\"\"\"\u001b[0m\u001b[1;33m\u001b[0m\u001b[1;33m\u001b[0m\u001b[0m\n\u001b[0;32m    205\u001b[0m     \u001b[1;32mtry\u001b[0m\u001b[1;33m:\u001b[0m\u001b[1;33m\u001b[0m\u001b[1;33m\u001b[0m\u001b[0m\n\u001b[1;32m--> 206\u001b[1;33m       \u001b[1;32mreturn\u001b[0m \u001b[0mtarget\u001b[0m\u001b[1;33m(\u001b[0m\u001b[1;33m*\u001b[0m\u001b[0margs\u001b[0m\u001b[1;33m,\u001b[0m \u001b[1;33m**\u001b[0m\u001b[0mkwargs\u001b[0m\u001b[1;33m)\u001b[0m\u001b[1;33m\u001b[0m\u001b[1;33m\u001b[0m\u001b[0m\n\u001b[0m\u001b[0;32m    207\u001b[0m     \u001b[1;32mexcept\u001b[0m \u001b[1;33m(\u001b[0m\u001b[0mTypeError\u001b[0m\u001b[1;33m,\u001b[0m \u001b[0mValueError\u001b[0m\u001b[1;33m)\u001b[0m\u001b[1;33m:\u001b[0m\u001b[1;33m\u001b[0m\u001b[1;33m\u001b[0m\u001b[0m\n\u001b[0;32m    208\u001b[0m       \u001b[1;31m# Note: convert_to_eager_tensor currently raises a ValueError, not a\u001b[0m\u001b[1;33m\u001b[0m\u001b[1;33m\u001b[0m\u001b[1;33m\u001b[0m\u001b[0m\n",
      "\u001b[1;32m~\\anaconda3\\envs\\thesis_gpu\\lib\\site-packages\\tensorflow\\python\\ops\\math_ops.py\u001b[0m in \u001b[0;36mmultiply\u001b[1;34m(x, y, name)\u001b[0m\n\u001b[0;32m    528\u001b[0m   \"\"\"\n\u001b[0;32m    529\u001b[0m \u001b[1;33m\u001b[0m\u001b[0m\n\u001b[1;32m--> 530\u001b[1;33m   \u001b[1;32mreturn\u001b[0m \u001b[0mgen_math_ops\u001b[0m\u001b[1;33m.\u001b[0m\u001b[0mmul\u001b[0m\u001b[1;33m(\u001b[0m\u001b[0mx\u001b[0m\u001b[1;33m,\u001b[0m \u001b[0my\u001b[0m\u001b[1;33m,\u001b[0m \u001b[0mname\u001b[0m\u001b[1;33m)\u001b[0m\u001b[1;33m\u001b[0m\u001b[1;33m\u001b[0m\u001b[0m\n\u001b[0m\u001b[0;32m    531\u001b[0m \u001b[1;33m\u001b[0m\u001b[0m\n\u001b[0;32m    532\u001b[0m \u001b[1;33m\u001b[0m\u001b[0m\n",
      "\u001b[1;32m~\\anaconda3\\envs\\thesis_gpu\\lib\\site-packages\\tensorflow\\python\\ops\\gen_math_ops.py\u001b[0m in \u001b[0;36mmul\u001b[1;34m(x, y, name)\u001b[0m\n\u001b[0;32m   6237\u001b[0m       \u001b[1;32mreturn\u001b[0m \u001b[0m_result\u001b[0m\u001b[1;33m\u001b[0m\u001b[1;33m\u001b[0m\u001b[0m\n\u001b[0;32m   6238\u001b[0m     \u001b[1;32mexcept\u001b[0m \u001b[0m_core\u001b[0m\u001b[1;33m.\u001b[0m\u001b[0m_NotOkStatusException\u001b[0m \u001b[1;32mas\u001b[0m \u001b[0me\u001b[0m\u001b[1;33m:\u001b[0m\u001b[1;33m\u001b[0m\u001b[1;33m\u001b[0m\u001b[0m\n\u001b[1;32m-> 6239\u001b[1;33m       \u001b[0m_ops\u001b[0m\u001b[1;33m.\u001b[0m\u001b[0mraise_from_not_ok_status\u001b[0m\u001b[1;33m(\u001b[0m\u001b[0me\u001b[0m\u001b[1;33m,\u001b[0m \u001b[0mname\u001b[0m\u001b[1;33m)\u001b[0m\u001b[1;33m\u001b[0m\u001b[1;33m\u001b[0m\u001b[0m\n\u001b[0m\u001b[0;32m   6240\u001b[0m     \u001b[1;32mexcept\u001b[0m \u001b[0m_core\u001b[0m\u001b[1;33m.\u001b[0m\u001b[0m_FallbackException\u001b[0m\u001b[1;33m:\u001b[0m\u001b[1;33m\u001b[0m\u001b[1;33m\u001b[0m\u001b[0m\n\u001b[0;32m   6241\u001b[0m       \u001b[1;32mpass\u001b[0m\u001b[1;33m\u001b[0m\u001b[1;33m\u001b[0m\u001b[0m\n",
      "\u001b[1;32m~\\anaconda3\\envs\\thesis_gpu\\lib\\site-packages\\tensorflow\\python\\framework\\ops.py\u001b[0m in \u001b[0;36mraise_from_not_ok_status\u001b[1;34m(e, name)\u001b[0m\n\u001b[0;32m   6895\u001b[0m   \u001b[0mmessage\u001b[0m \u001b[1;33m=\u001b[0m \u001b[0me\u001b[0m\u001b[1;33m.\u001b[0m\u001b[0mmessage\u001b[0m \u001b[1;33m+\u001b[0m \u001b[1;33m(\u001b[0m\u001b[1;34m\" name: \"\u001b[0m \u001b[1;33m+\u001b[0m \u001b[0mname\u001b[0m \u001b[1;32mif\u001b[0m \u001b[0mname\u001b[0m \u001b[1;32mis\u001b[0m \u001b[1;32mnot\u001b[0m \u001b[1;32mNone\u001b[0m \u001b[1;32melse\u001b[0m \u001b[1;34m\"\"\u001b[0m\u001b[1;33m)\u001b[0m\u001b[1;33m\u001b[0m\u001b[1;33m\u001b[0m\u001b[0m\n\u001b[0;32m   6896\u001b[0m   \u001b[1;31m# pylint: disable=protected-access\u001b[0m\u001b[1;33m\u001b[0m\u001b[1;33m\u001b[0m\u001b[1;33m\u001b[0m\u001b[0m\n\u001b[1;32m-> 6897\u001b[1;33m   \u001b[0msix\u001b[0m\u001b[1;33m.\u001b[0m\u001b[0mraise_from\u001b[0m\u001b[1;33m(\u001b[0m\u001b[0mcore\u001b[0m\u001b[1;33m.\u001b[0m\u001b[0m_status_to_exception\u001b[0m\u001b[1;33m(\u001b[0m\u001b[0me\u001b[0m\u001b[1;33m.\u001b[0m\u001b[0mcode\u001b[0m\u001b[1;33m,\u001b[0m \u001b[0mmessage\u001b[0m\u001b[1;33m)\u001b[0m\u001b[1;33m,\u001b[0m \u001b[1;32mNone\u001b[0m\u001b[1;33m)\u001b[0m\u001b[1;33m\u001b[0m\u001b[1;33m\u001b[0m\u001b[0m\n\u001b[0m\u001b[0;32m   6898\u001b[0m   \u001b[1;31m# pylint: enable=protected-access\u001b[0m\u001b[1;33m\u001b[0m\u001b[1;33m\u001b[0m\u001b[1;33m\u001b[0m\u001b[0m\n\u001b[0;32m   6899\u001b[0m \u001b[1;33m\u001b[0m\u001b[0m\n",
      "\u001b[1;32m~\\anaconda3\\envs\\thesis_gpu\\lib\\site-packages\\six.py\u001b[0m in \u001b[0;36mraise_from\u001b[1;34m(value, from_value)\u001b[0m\n",
      "\u001b[1;31mInvalidArgumentError\u001b[0m: cannot compute Mul as input #1(zero-based) was expected to be a double tensor but is a float tensor [Op:Mul]"
     ]
    }
   ],
   "source": [
    "ang_mae(tensor_dataset_true, tensor_dataset_pred)"
   ]
  },
  {
   "cell_type": "code",
   "execution_count": null,
   "id": "ce2dea07",
   "metadata": {},
   "outputs": [],
   "source": []
  }
 ],
 "metadata": {
  "kernelspec": {
   "display_name": "Python 3",
   "language": "python",
   "name": "python3"
  },
  "language_info": {
   "codemirror_mode": {
    "name": "ipython",
    "version": 3
   },
   "file_extension": ".py",
   "mimetype": "text/x-python",
   "name": "python",
   "nbconvert_exporter": "python",
   "pygments_lexer": "ipython3",
   "version": "3.9.5"
  }
 },
 "nbformat": 4,
 "nbformat_minor": 5
}
